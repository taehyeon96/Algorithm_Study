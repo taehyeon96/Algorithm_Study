{
 "cells": [
  {
   "cell_type": "markdown",
   "metadata": {},
   "source": [
    "# 구현 문제 (Implementation)\n",
    "* 풀이를 떠올리는 것은 쉽지만 소스코드로 옮기기 어려운 문제들\n",
    "\n",
    "    - 알고리즘은 간단한데 코드가 길어지는 문제\n",
    "    - 실수 연산을 다루거나, 특정 소수점까지 출력하는 문제\n",
    "    - 문자열을 특정 기준에 따라 끊어 처리하는 문제\n",
    "    - 적절한 라이브러리를 찾아 사용해야하는 문제 등"
   ]
  },
  {
   "cell_type": "markdown",
   "metadata": {},
   "source": [
    "---\n",
    "### 항상 문제풀기 전에\n",
    "#### 사용될 변수들이 뭐가 있는지 생각 후 선언&초기화\n",
    "#### 대략적인 로직의 큰 틀 작성(for & if 등)\n",
    "#### 알고리즘에 맞게 코드 구현\n",
    "#### 결과물 print()\n",
    "---"
   ]
  },
  {
   "cell_type": "markdown",
   "metadata": {},
   "source": [
    "## <문제 1> 상하좌우 문제\n",
    "* 문제 설명\n",
    "    - 여행가 A는 N x N 크기의 정사각형 공간 위에 서 있다. 이 공간은 1 x 1 크기의 정사각형으로 누어져 있다. \n",
    "    - 가장 왼쪽 위 좌표는 (1,1)이며. 가장 오른쪽 아래 죄표는 (N, N)에 해당한다. \n",
    "    - 여행가 A는 상, 하, 좌, 우 방향으로 이동할 수 있으며, 시작 죄표는 항상 (1,1) 이다. 우리 앞에는 여행 가 A가 이동할 계획이 적힌 계획서가 놓여 있다.\n",
    "    ---\n",
    "    - 계획서에는 하나의 줄에 띄어쓰기를 기준으로 하여 L, R, U, D 중 하나의 문자가 반복적으로 적혀있다. 각 문자의 의미는 다음과 같다.\n",
    "        * L:왼쪽으로한칸이동\n",
    "        * R:오른쪽으로한칸이동\n",
    "        * U:위로한칸이동\n",
    "        * D:아래로한칸이동\n",
    "    ---\n",
    "    - 이때 여행가 A가 N*N 크기의 정사각형 공간을 벗어나는 움직임은 무시된다. 예를 들어 (1,1)의 위치에서 L 혹은 U를 만나면 무시된다. \n",
    "    - (1,1)시작, N=5인 지도와 계획서 : R->R->R->U->D->D\n",
    "        * 이때 네 번째 U의 움직임은 무시됨\n",
    "       \n",
    "\n",
    "---\n",
    "* 문제 해결 아이디어\n",
    "    - 일련의 명령을 따라 개체(Object)를 이동시키는 ***시뮬레이션(Simulation)유형***으로도 분류됨"
   ]
  },
  {
   "cell_type": "code",
   "execution_count": 4,
   "metadata": {},
   "outputs": [
    {
     "name": "stdout",
     "output_type": "stream",
     "text": [
      "30\n",
      "R R D R R U\n",
      "1 5\n"
     ]
    }
   ],
   "source": [
    "''' Python '''\n",
    "# N과 계획서 입력받기\n",
    "n = int(input())\n",
    "x, y = 1, 1\n",
    "plans = input().split()    # R R D R R U\n",
    "\n",
    "\n",
    "# L R U D에 따른 이동 방향 리스트\n",
    "move_types = ['L', 'R', 'U', 'D']\n",
    "dx = [0, 0, -1, 1]\n",
    "dy = [-1, 1, 0, 0]\n",
    "\n",
    "\n",
    "# 이동 계획을 하나씩 확인하기 \n",
    "# -> 한 칸 이동 후 좌표(nx, ny)를 바로 업데이트\n",
    "for plan in plans:\n",
    "    for i in range(len(move_types)):\n",
    "        if move_types[i] == plan:            \n",
    "            nx = x + dx[i]             # x,y는 밑에서 업데이트\n",
    "            ny = y + dy[i]\n",
    "        \n",
    "    # 공간을 벗어날 경우 무시(하기 위해 nx와 ny를 구함)\n",
    "    if nx < 1 or ny < 1 or nx > n or ny > n:\n",
    "        continue\n",
    "    # 벗어나지 않으면 할당(=이동)\n",
    "    else:\n",
    "        x, y = nx, ny\n",
    "\n",
    "print(x, y)      \n",
    "    "
   ]
  },
  {
   "cell_type": "code",
   "execution_count": null,
   "metadata": {},
   "outputs": [],
   "source": [
    "''' C++ '''\n",
    "\"\"\"\n",
    "#include <bits/stdc++.h>\n",
    "using namespace std;\n",
    "\n",
    "int n;\n",
    "string plans;\n",
    "int x = 1, y = 1;\n",
    "\n",
    "char move_types[4] = {'L', 'R', 'U', 'D'};\n",
    "int dx[4] = {0, 0, -1, 1};\n",
    "int dy[4] = {-1, 1, 0, 0}\n",
    "\n",
    "\n",
    "int main(void){\n",
    "    cin >> n;\n",
    "    \n",
    "    cin.ignore();  // 정수를 입력받은 후 한 줄의 문자열을 입력받으려면 반드시 버퍼 비우기!\n",
    "    getline(cin,plans);\n",
    "    \n",
    "    for(int i=0; i<=plans.size(); i++){\n",
    "        char plan = plans[i];\n",
    "        int nx=0, ny=0;\n",
    "        for(int j=0; j<move_types.size(); j++){\n",
    "            if(plan==move_types[j]){\n",
    "                nx = x + dx[j];\n",
    "                ny = y + dy[j];\n",
    "            }\n",
    "        if(nx<1 || ny<1 || nx>n || ny>n) continue;\n",
    "        else{\n",
    "            x = nx;\n",
    "            y = ny;\n",
    "        }\n",
    "    cout << x << ' ' << y << '\\n';\n",
    "    return 0\n",
    "            \n",
    "            \n",
    "        }\n",
    "    }\n",
    "}\n",
    "\"\"\"\n"
   ]
  },
  {
   "cell_type": "markdown",
   "metadata": {},
   "source": [
    "## <문제 2> 시각 문제"
   ]
  },
  {
   "cell_type": "code",
   "execution_count": null,
   "metadata": {},
   "outputs": [],
   "source": []
  },
  {
   "cell_type": "code",
   "execution_count": null,
   "metadata": {},
   "outputs": [],
   "source": []
  },
  {
   "cell_type": "code",
   "execution_count": null,
   "metadata": {},
   "outputs": [],
   "source": []
  },
  {
   "cell_type": "code",
   "execution_count": null,
   "metadata": {},
   "outputs": [],
   "source": []
  },
  {
   "cell_type": "code",
   "execution_count": null,
   "metadata": {},
   "outputs": [],
   "source": []
  },
  {
   "cell_type": "code",
   "execution_count": null,
   "metadata": {},
   "outputs": [],
   "source": []
  },
  {
   "cell_type": "code",
   "execution_count": null,
   "metadata": {},
   "outputs": [],
   "source": []
  },
  {
   "cell_type": "code",
   "execution_count": null,
   "metadata": {},
   "outputs": [],
   "source": []
  },
  {
   "cell_type": "code",
   "execution_count": null,
   "metadata": {},
   "outputs": [],
   "source": []
  },
  {
   "cell_type": "code",
   "execution_count": null,
   "metadata": {},
   "outputs": [],
   "source": []
  },
  {
   "cell_type": "code",
   "execution_count": null,
   "metadata": {},
   "outputs": [],
   "source": []
  }
 ],
 "metadata": {
  "kernelspec": {
   "display_name": "Python 3",
   "language": "python",
   "name": "python3"
  },
  "language_info": {
   "codemirror_mode": {
    "name": "ipython",
    "version": 3
   },
   "file_extension": ".py",
   "mimetype": "text/x-python",
   "name": "python",
   "nbconvert_exporter": "python",
   "pygments_lexer": "ipython3",
   "version": "3.8.5"
  }
 },
 "nbformat": 4,
 "nbformat_minor": 4
}
