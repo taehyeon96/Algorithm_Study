{
 "cells": [
  {
   "cell_type": "markdown",
   "metadata": {},
   "source": [
    "# 구현 문제 (Implementation)\n",
    "* 풀이를 떠올리는 것은 쉽지만 소스코드로 옮기기 어려운 문제들\n",
    "\n",
    "    - 알고리즘은 간단한데 코드가 길어지는 문제\n",
    "    - 실수 연산을 다루거나, 특정 소수점까지 출력하는 문제\n",
    "    - 문자열을 특정 기준에 따라 끊어 처리하는 문제\n",
    "    - 적절한 라이브러리를 찾아 사용해야하는 문제 등"
   ]
  },
  {
   "cell_type": "markdown",
   "metadata": {},
   "source": [
    "---\n",
    "### 항상 문제풀기 전에\n",
    "#### * 정답 조건으로 요구되는게 뭔지 정리 1,2,3...(ex 오름차순, 합계 등)\n",
    "#### * 사용될 변수들이 뭐가 있는지 생각 후 선언&초기화\n",
    "#### * 대략적인 로직의 큰 틀 작성(for & if 등)\n",
    "#### * 알고리즘에 맞게 코드 구현\n",
    "#### * 결과물 print()\n",
    "---"
   ]
  },
  {
   "cell_type": "markdown",
   "metadata": {},
   "source": [
    "## <문제 1> 상하좌우 문제\n",
    "* 문제 설명\n",
    "    - 여행가 A는 N x N 크기의 정사각형 공간 위에 서 있다. 이 공간은 1 x 1 크기의 정사각형으로 누어져 있다. \n",
    "    - 가장 왼쪽 위 좌표는 (1,1)이며. 가장 오른쪽 아래 죄표는 (N, N)에 해당한다. \n",
    "    - 여행가 A는 상, 하, 좌, 우 방향으로 이동할 수 있으며, 시작 죄표는 항상 (1,1) 이다. 우리 앞에는 여행 가 A가 이동할 계획이 적힌 계획서가 놓여 있다.\n",
    "    ---\n",
    "    - 계획서에는 하나의 줄에 띄어쓰기를 기준으로 하여 L, R, U, D 중 하나의 문자가 반복적으로 적혀있다. 각 문자의 의미는 다음과 같다.\n",
    "        * L:왼쪽으로한칸이동\n",
    "        * R:오른쪽으로한칸이동\n",
    "        * U:위로한칸이동\n",
    "        * D:아래로한칸이동\n",
    "    ---\n",
    "    - 이때 여행가 A가 N*N 크기의 정사각형 공간을 벗어나는 움직임은 무시된다. 예를 들어 (1,1)의 위치에서 L 혹은 U를 만나면 무시된다. \n",
    "    - (1,1)시작, N=5인 지도와 계획서 : R->R->R->U->D->D\n",
    "        * 이때 네 번째 U의 움직임은 무시됨\n",
    "       \n",
    "\n",
    "---\n",
    "* 문제 해결 아이디어\n",
    "    - 일련의 명령을 따라 개체(Object)를 이동시키는 ***시뮬레이션(Simulation)유형***으로도 분류됨"
   ]
  },
  {
   "cell_type": "code",
   "execution_count": 4,
   "metadata": {},
   "outputs": [
    {
     "name": "stdout",
     "output_type": "stream",
     "text": [
      "30\n",
      "R R D R R U\n",
      "1 5\n"
     ]
    }
   ],
   "source": [
    "''' Python '''\n",
    "# N과 계획서 입력받기\n",
    "n = int(input())\n",
    "x, y = 1, 1\n",
    "plans = input().split()    # R R D R R U\n",
    "\n",
    "\n",
    "# L R U D에 따른 이동 방향 리스트\n",
    "move_types = ['L', 'R', 'U', 'D']\n",
    "dx = [0, 0, -1, 1]\n",
    "dy = [-1, 1, 0, 0]\n",
    "\n",
    "\n",
    "# 이동 계획을 하나씩 확인하기 \n",
    "# -> 한 칸 이동 후 좌표(nx, ny)를 바로 업데이트\n",
    "for plan in plans:\n",
    "    for i in range(len(move_types)):\n",
    "        if move_types[i] == plan:            \n",
    "            nx = x + dx[i]             # x,y는 밑에서 업데이트\n",
    "            ny = y + dy[i]\n",
    "        \n",
    "    # 공간을 벗어날 경우 무시(하기 위해 nx와 ny를 구함)\n",
    "    if nx < 1 or ny < 1 or nx > n or ny > n:\n",
    "        continue\n",
    "    # 벗어나지 않으면 할당(=이동)\n",
    "    else:\n",
    "        x, y = nx, ny\n",
    "\n",
    "print(x, y)      \n",
    "    "
   ]
  },
  {
   "cell_type": "code",
   "execution_count": null,
   "metadata": {},
   "outputs": [],
   "source": [
    "''' C++ '''\n",
    "\"\"\"\n",
    "#include <bits/stdc++.h>\n",
    "using namespace std;\n",
    "\n",
    "int n;\n",
    "string plans;\n",
    "int x = 1, y = 1;\n",
    "\n",
    "char move_types[4] = {'L', 'R', 'U', 'D'};\n",
    "int dx[4] = {0, 0, -1, 1};\n",
    "int dy[4] = {-1, 1, 0, 0}\n",
    "\n",
    "\n",
    "int main(void){\n",
    "    cin >> n;\n",
    "    \n",
    "    cin.ignore();  // 정수를 입력받은 후 한 줄의 문자열을 입력받으려면 반드시 버퍼 비우기!\n",
    "    getline(cin,plans);\n",
    "    \n",
    "    for(int i=0; i<=plans.size(); i++){\n",
    "        char plan = plans[i];\n",
    "        int nx=0, ny=0;\n",
    "        for(int j=0; j<move_types.size(); j++){\n",
    "            if(plan==move_types[j]){\n",
    "                nx = x + dx[j];\n",
    "                ny = y + dy[j];\n",
    "            }\n",
    "        if(nx<1 || ny<1 || nx>n || ny>n) continue;\n",
    "        else{\n",
    "            x = nx;\n",
    "            y = ny;\n",
    "        }\n",
    "    cout << x << ' ' << y << '\\n';\n",
    "    return 0\n",
    "            \n",
    "            \n",
    "        }\n",
    "    }\n",
    "}\n",
    "\"\"\"\n"
   ]
  },
  {
   "cell_type": "markdown",
   "metadata": {},
   "source": [
    "## <문제 2> 시각 문제\n",
    "\n",
    "* 문제 설명\n",
    "    - 정수 N이 입력되면 00시 00분 00초부터 N시 59분 59초까지의 ***모든 시각 중에서 3이 하나라도 포함되는 모든 경우의 수***를 구하는 프로그램을 작성하시오. \n",
    "    - 예를 들어 1을 입력했을 때 다음은 3이 하나리도 포함되어 있으므로 ***세어야 하는 시각***이다.\n",
    "        - 00시00분03초\n",
    "        - 00시13분30초\n",
    "    - 반면에 다음은 3이 하나도 포함되어 있지 않으므로 세면 안 되는 시각이다\n",
    "        - 00시02분55초\n",
    "        - 01시27분45초\n",
    "        ---\n",
    "* 문제 해결 아이디어\n",
    "    - 이 문제는 ***가능한 모든 시각의 경우를 하나씩 모두 세서 풀 수 있는 문제***이다.\n",
    "    - 하루는 86,400초이므로, 00시 00분 00초부터 23시 59분 59초까지의 모든 경우는 86,400가지이다. (= 24 * 60 * 60)\n",
    "    - 따라서 단순히 시각을 1씩 증가시켜서 3이 하나라도 포함되어있는지 확인하면 된다\n",
    "    \n",
    "    - 이러한 유형은 ***완전 탐색(Brute Forcing)***문제 유형이라고 한다\n",
    "        - 즉, 가능한 모든 경우의 수를 다 검사하는 탐색 방법이다.\n",
    "        \n",
    "        "
   ]
  },
  {
   "cell_type": "code",
   "execution_count": 5,
   "metadata": {},
   "outputs": [
    {
     "name": "stdout",
     "output_type": "stream",
     "text": [
      "5\n",
      "time : 0.021409034729003906\n",
      "11475\n"
     ]
    }
   ],
   "source": [
    "''' Python '''\n",
    "\n",
    "h = int(input())\n",
    "result = 0\n",
    "\n",
    "# 시분초를 하나로 묶지 말고 각 for문으로 끊어서 한다는게 핵심<중요>\n",
    "for i in range(h+1):\n",
    "    for j in range(60):\n",
    "        for k in range(60):\n",
    "            # 문자열 합치는거 & in연산자 핵심 <중요>\n",
    "            if '3' in str(i) + str(j) + str(k):\n",
    "                result += 1\n",
    "\n",
    "print(result)"
   ]
  },
  {
   "cell_type": "code",
   "execution_count": null,
   "metadata": {},
   "outputs": [],
   "source": [
    "''' C++ '''\n",
    "\"\"\"\n",
    "#include <bits/stdc++.h>\n",
    "using namespace std;\n",
    "\n",
    "int h, result;\n",
    "\n",
    "int main(void){\n",
    "    cin >> h;\n",
    "    \n",
    "    for(int i=0; i<h+1; i++){\n",
    "        for(int j=0; j<60; j++){\n",
    "            for(int k=0; k<60; k++){\n",
    "                \n",
    "                // C++은 문자열로 변환하는 것이 더 복잡함\n",
    "                // 10의자리가 3인지, 1의자리가 3인지 체크 핵심<중요>\n",
    "                if (i%10==3 || j/10==3 || j%10==3 || k/10==3 || k%10==3){\n",
    "                    result++;\n",
    "                }\n",
    "                \n",
    "            }\n",
    "        }\n",
    "    }\n",
    "    cout << result << '\\n';\n",
    "    return 0;\n",
    "}\n",
    "\"\"\""
   ]
  },
  {
   "cell_type": "markdown",
   "metadata": {},
   "source": [
    "---\n",
    "---\n"
   ]
  },
  {
   "cell_type": "markdown",
   "metadata": {},
   "source": [
    "## <문제 3> 왕실의 나이트\n",
    "\n",
    "* 문제 설명\n",
    "    - 행복 왕국 왕실 정원은 체스판과 같은 ***8X8좌표 평면***이다. 왕실 정원의 특정한 한 칸에 나이트가 서있다. 나이트는 매우 충성스러운 신하로서 매일 무술을 연마한다.\n",
    "    - 나이트는 말을 타고 있기 때문에 이동할 때는 ***L자 형태로만 이동***할 수 있으며, 정원 밖으로는 나갈 수 없다.\n",
    "    \n",
    "    - 나이트는 특정 위치에서 다음과 같은 2가지 경우로 이동할 수 있다.\n",
    "        - 수평으로 두 칸 이동한 뒤 수직으로 한 칸 이동\n",
    "        - 수직으로 두 칸 이동한 뒤 수평으로 한 칸 이동\n",
    "        \n",
    "    - 8X8좌표 평면에서 나이트의 위치가 주어졌을 때, <u>***현 위치에서 나이트가 이동할 수 있는 경우의 수***를 출력하는 프로그램을 작성</u>\n",
    "    - 왕실 정원에서 행의 위치는 1~8로 표현\n",
    "    - 열의 위치를 표현할 때는 a~h로 표현\n",
    "    \n",
    "    - 참고로 c2에 있을 땐, 이동할 수 있는 경우의 수는 6가지이다\n",
    "    \n",
    "    ---\n",
    "* 문제 해결 아이디어\n",
    "    - 시뮬레이션 유형이며, 구현문제\n",
    "    - 나이트의 8가지 경로를 하나씩 확인하며 각 위치로 이동이 가능한지 확인한다.(이전에 했던 것과 유사)\n",
    "    - 리스트를 이용하여 8가지 방향에 대한 벡터를 정의"
   ]
  },
  {
   "cell_type": "code",
   "execution_count": 7,
   "metadata": {},
   "outputs": [
    {
     "name": "stdout",
     "output_type": "stream",
     "text": [
      "c1\n",
      "4\n"
     ]
    }
   ],
   "source": [
    "''' Python '''\n",
    "\n",
    "# 나이트의 현재 위치 입력받기 (<문자,정수>조합)\n",
    "input_data = input()\n",
    "# 계산을 위해 ASCII를 int로 변환!! <중요>\n",
    "column = int(ord(input_data[0])) - int(ord('a')) + 1\n",
    "row = int(input_data[1])\n",
    "\n",
    "# 나이트가 이동할 수 있는 8가지 방향 정의 < col, row >\n",
    "# dx, dy를 사용하지 않은 방법 <중요>\n",
    "steps = [(-2,-1), (-1,-2), (1,-2), (2,-1), (2,1), (1,2), (-1,2), (-2,1)]\n",
    "\n",
    "result = 0\n",
    "\n",
    "# 8가지 방향에 대해 각 위치로 이동이 가능한지 확인\n",
    "for step in steps:\n",
    "    ncol = column + step[0]\n",
    "    nrow = row + step[0]\n",
    "    # 이전에 했던 것과 다르게, 8X8안에만 있으면 이동가능 추가!\n",
    "    if ncol >= 1 and ncol <= 8 and nrow >= 1 and nrow <= 8:\n",
    "        result += 1\n",
    "        \n",
    "print(result)    \n"
   ]
  },
  {
   "cell_type": "code",
   "execution_count": null,
   "metadata": {},
   "outputs": [],
   "source": [
    "''' C++ '''\n",
    "\"\"\"\n",
    "#include <bits/stdc++.h>\n",
    "using namespace std;\n",
    "\n",
    "string inputData;\n",
    "int dx[] = {-2, -1, 1, 2, 2, 1, -1, -2};\n",
    "int dy[] = {-1, -2, -2, -1, 1, 2, 2, 1};\n",
    "\n",
    "int main(void){\n",
    "    cin >> inputData;\n",
    "    int row = inputData[1] - '0';\n",
    "    int column = inputData[0] - 'a' + 1;\n",
    "    \n",
    "    int result = 0;\n",
    "    for (int i=0; i<8; i++){\n",
    "        int ncol = column + dx[i];\n",
    "        int nrow = row + dy[i];\n",
    "        if (ncol>=1 && ncol<=8 && nrow>=1 && nrow<=8) {\n",
    "            result++;\n",
    "        }\n",
    "    }\n",
    "    cout << result << '\\n';\n",
    "    return 0;\n",
    "}\n",
    "\"\"\""
   ]
  },
  {
   "cell_type": "markdown",
   "metadata": {},
   "source": [
    "---\n",
    "---"
   ]
  },
  {
   "cell_type": "markdown",
   "metadata": {},
   "source": [
    "## <문제 4> 문자열 재정렬\n",
    "* 문제 설명\n",
    "    - 알파벳 대문자와 숫자(0~9)로만 구성된 문자열이 입력으로 주어진다\n",
    "    - 이때 모든 ***알파벳을 오름차순으로 정렬하여 이어서 출력***한 뒤, 그 뒤에 모든 ***숫자를 더한 합계***를 이어서 출력하라\n",
    "        - EX) 'K1KA5CB7'이라는 값이 들어오면 'ABCKK13'을 출력\n",
    "---\n",
    "* 문제 해결 아이디어\n",
    "    - 문자열이 입력되었을 때 문자를 하나씩 확인\n",
    "        - 숫자인 경우 따로 합계를 계산\n",
    "        - 알파벳인 경우 별도의 리스트에 저장\n",
    "    - 결과적으로 ***리스트에 저장된 알파벳을 정렬해 출력하고, 합계를 뒤에 붙여 출력***하면 정답임"
   ]
  },
  {
   "cell_type": "code",
   "execution_count": 9,
   "metadata": {},
   "outputs": [
    {
     "name": "stdout",
     "output_type": "stream",
     "text": [
      "DAFDS1F2SF5S\n",
      "ADDFFFSSS8\n"
     ]
    }
   ],
   "source": [
    "''' Python '''\n",
    "\n",
    "data = input()\n",
    "result = []\n",
    "value = 0        # 문제에서 요구하는 1.\"합계\"를 인지하자!!\n",
    "\n",
    "for x in data:\n",
    "    # 내장함수 사용 <중요>!!!!\n",
    "    if x.isalpha():\n",
    "        result.append(x)\n",
    "    else:\n",
    "        value += int(x)   # int로 형변환 중요!\n",
    "\n",
    "# 문제에서 요구하는 2. \"오름차순\"을 인지하자!!\n",
    "result.sort()\n",
    "\n",
    "if value != 0:\n",
    "    result.append(str(value))   # 문자열로 변환하여 저장\n",
    "\n",
    "# <중요> 공백없이 '리스트'를 '문자열'로 변환하여 출력\n",
    "print(''.join(result))"
   ]
  },
  {
   "cell_type": "code",
   "execution_count": null,
   "metadata": {},
   "outputs": [],
   "source": [
    "''' C++ '''\n",
    "\n",
    "#include <bits/stdc++.h>\n",
    "using namespace std;\n",
    "\n",
    "string str;\n",
    "vector<char> result;\n",
    "int value = 0;\n",
    "\n",
    "int main(void){\n",
    "    cin >> str;\n",
    "    \n",
    "    for(int i = 0; i<str.size(); i++){\n",
    "        if(isalpha(str[i])){\n",
    "            result.push_back(str[i]);\n",
    "        }\n",
    "        else{\n",
    "            value += str[i] - '0';\n",
    "        }\n",
    "    }\n",
    "    \n",
    "    # C++ sort() 사용법 익혀두기\n",
    "    sort(result.begin(), result.end());\n",
    "    \n",
    "    if(value != 0){\n",
    "        value = value - '0';\n",
    "        result.push_back(value);\n",
    "    }\n",
    "    \n",
    "    for(int i = 0; i<result.size(); i++){\n",
    "        cout << result[i];\n",
    "    }\n",
    "    return 0;\n",
    "\n",
    "}\n"
   ]
  }
 ],
 "metadata": {
  "kernelspec": {
   "display_name": "Python 3",
   "language": "python",
   "name": "python3"
  },
  "language_info": {
   "codemirror_mode": {
    "name": "ipython",
    "version": 3
   },
   "file_extension": ".py",
   "mimetype": "text/x-python",
   "name": "python",
   "nbconvert_exporter": "python",
   "pygments_lexer": "ipython3",
   "version": "3.8.5"
  }
 },
 "nbformat": 4,
 "nbformat_minor": 4
}
