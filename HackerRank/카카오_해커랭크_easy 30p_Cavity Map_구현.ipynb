{
 "cells": [
  {
   "cell_type": "markdown",
   "id": "e70a1640",
   "metadata": {},
   "source": [
    "### 메모한 것\n",
    "\n",
    "목표 : 구멍을 X로 매꾼다\n",
    "    - 이때 구멍은 상하좌우보다 작은 값인 것\n",
    "    - 가장 사이드쪽에(테두리) 있는 값은 작아도 상관없음 = 구멍이 아니고 일종의 절벽? 내리막길? 이런느낌인듯\n",
    "    \n",
    "### 알고리즘\n",
    "\n",
    "for문 두개 돌릴 때 [0]이랑 [-1] 부분 제외하고 풀서치\n",
    "    [방법 a] arr에 {상하좌우 a_ij} 다 넣고, if a_ij == max(arr)이면 구멍임     <-- 상하좌우 aij가 전부 1이면(같은깊이면) 답이안나옴\n",
    "    [방법 b] arr에 {상하좌우}만 넣고, if a_ij > max(arr)이면 구멍임            <-- 이거로가자\n",
    "\n",
    "구멍을 -1로 만들고\n",
    "마지막에 -1을 'X'로 바꾸는 작업을 해야할듯?"
   ]
  },
  {
   "cell_type": "code",
   "execution_count": 35,
   "id": "67b14fce",
   "metadata": {},
   "outputs": [
    {
     "name": "stdout",
     "output_type": "stream",
     "text": [
      "1112\n",
      "1X12\n",
      "18X2\n",
      "1234\n"
     ]
    }
   ],
   "source": [
    "def cavityMap(n, grid):\n",
    "    graph = []\n",
    "    for i in grid:\n",
    "        graph.append(list(map(int,i)))\n",
    "    \n",
    "    for y in range(1, n-1):\n",
    "        for x in range(1, n-1):\n",
    "            friend = [graph[y-1][x], graph[y+1][x], graph[y][x-1], graph[y][x+1]]\n",
    "            if graph[y][x] > max(friend):\n",
    "                graph[y][x] = -1\n",
    "                \n",
    "    for i in range(len(graph)):\n",
    "        if -1 in graph[i]:\n",
    "            graph[i][graph[i].index(-1)] = 'X'\n",
    "    \n",
    "    ans = []\n",
    "    for i in graph:\n",
    "        ans.append(\"\".join(map(str,i)))\n",
    "    return ans\n",
    "\n",
    "        \n",
    "n = 4    \n",
    "grid = ['1112', '1912', '1892', '1234']    \n",
    "result = cavityMap(n, grid)\n",
    "print(\"\\n\".join(result))"
   ]
  },
  {
   "cell_type": "code",
   "execution_count": 65,
   "id": "5b7fce9e",
   "metadata": {},
   "outputs": [
    {
     "name": "stdout",
     "output_type": "stream",
     "text": [
      "1112\n",
      "1X12\n",
      "18X2\n",
      "1234\n"
     ]
    }
   ],
   "source": [
    "def cavityMap(n, grid):\n",
    "    graph = []\n",
    "    visit = [[0] * n for _ in range(n)]\n",
    "    \n",
    "    for i in grid:\n",
    "        graph.append(list(map(int,i)))\n",
    "    \n",
    "    for y in range(1, n-1):\n",
    "        for x in range(1, n-1):\n",
    "            friend = [graph[y-1][x], graph[y+1][x], graph[y][x-1], graph[y][x+1]]\n",
    "            if graph[y][x] > max(friend):\n",
    "                visit[y][x] = -1\n",
    "                \n",
    "    for i in range(n):\n",
    "        for j in range(n):\n",
    "            if -1 == visit[i][j]:\n",
    "                graph[i][j] = 'X'\n",
    "    \n",
    "    ans = []\n",
    "    for i in graph:\n",
    "        ans.append(\"\".join(map(str,i)))\n",
    "    return ans\n",
    "\n",
    "        \n",
    "n = 4    \n",
    "grid = ['1112', '1912', '1892', '1234']    \n",
    "result = cavityMap(n, grid)\n",
    "print(\"\\n\".join(result))"
   ]
  },
  {
   "cell_type": "code",
   "execution_count": 13,
   "id": "ac7de66f",
   "metadata": {},
   "outputs": [
    {
     "name": "stdout",
     "output_type": "stream",
     "text": [
      "[[1, 1, 1, 2], [1, 9, 1, 2], [1, 8, 9, 2], [1, 2, 3, 4]]\n"
     ]
    }
   ],
   "source": [
    "def cavityMap(n, grid):\n",
    "    graph = []\n",
    "    for i in grid:\n",
    "        graph.append(list(map(int,i)))\n",
    "    \n",
    "    return graph\n",
    "grid = ['1112', '1912', '1892', '1234']    \n",
    "print(cavityMap(n, grid))"
   ]
  },
  {
   "cell_type": "code",
   "execution_count": 67,
   "id": "32a04387",
   "metadata": {},
   "outputs": [
    {
     "name": "stdout",
     "output_type": "stream",
     "text": [
      "[[1, 1, 1, 2], [1, 'X', -1, 2], [1, 8, 'X', 2], [1, 2, 3, 4]]\n"
     ]
    }
   ],
   "source": [
    "graph = [[1, 1, 1, 2], [1, -1, -1, 2], [1, 8, -1, 2], [1, 2, 3, 4]]\n",
    "for i in range(len(graph)):\n",
    "    if -1 in graph[i]:\n",
    "        graph[i][graph[i].index(-1)] = 'X'\n",
    "print(graph)"
   ]
  },
  {
   "cell_type": "code",
   "execution_count": null,
   "id": "afc3d1aa",
   "metadata": {},
   "outputs": [],
   "source": [
    "graph = [[1, 1, 1, 2], [1, -1, -1, 2], [1, 8, -1, 2], [1, 2, 3, 4]]\n",
    "for i in range(len(graph)):\n",
    "    for j in range(len(graph)):\n",
    "        if -1 == graph[i][j]:\n",
    "            graph[i][j] = 'X'\n",
    "print(graph)"
   ]
  }
 ],
 "metadata": {
  "kernelspec": {
   "display_name": "Python 3 (ipykernel)",
   "language": "python",
   "name": "python3"
  },
  "language_info": {
   "codemirror_mode": {
    "name": "ipython",
    "version": 3
   },
   "file_extension": ".py",
   "mimetype": "text/x-python",
   "name": "python",
   "nbconvert_exporter": "python",
   "pygments_lexer": "ipython3",
   "version": "3.9.7"
  }
 },
 "nbformat": 4,
 "nbformat_minor": 5
}
