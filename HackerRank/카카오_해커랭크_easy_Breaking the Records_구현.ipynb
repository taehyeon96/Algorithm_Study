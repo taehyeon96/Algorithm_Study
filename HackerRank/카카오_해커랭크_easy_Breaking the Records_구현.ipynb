{
 "cells": [
  {
   "cell_type": "code",
   "execution_count": 10,
   "id": "3b546f9a",
   "metadata": {},
   "outputs": [
    {
     "name": "stdout",
     "output_type": "stream",
     "text": [
      "4 0\n"
     ]
    }
   ],
   "source": [
    "def breakingRecords(n, scores):\n",
    "    high_score = scores[0]\n",
    "    low_socre = scores[0]\n",
    "    max_num = min_num = 0    \n",
    "    \n",
    "    for i in range(1, n):\n",
    "        if scores[i] < low_socre:\n",
    "            low_socre = scores[i]\n",
    "            min_num += 1\n",
    "        if high_score < scores[i]:\n",
    "            high_score = scores[i]\n",
    "            max_num += 1\n",
    "            \n",
    "    return [max_num, min_num]\n",
    "    \n",
    "n = 10\n",
    "scores = [3, 4, 21, 36, 10, 28, 35, 5, 24, 42]\n",
    "print(\" \".join(map(str, breakingRecords(n, scores))))"
   ]
  }
 ],
 "metadata": {
  "kernelspec": {
   "display_name": "Python 3 (ipykernel)",
   "language": "python",
   "name": "python3"
  },
  "language_info": {
   "codemirror_mode": {
    "name": "ipython",
    "version": 3
   },
   "file_extension": ".py",
   "mimetype": "text/x-python",
   "name": "python",
   "nbconvert_exporter": "python",
   "pygments_lexer": "ipython3",
   "version": "3.9.7"
  }
 },
 "nbformat": 4,
 "nbformat_minor": 5
}
