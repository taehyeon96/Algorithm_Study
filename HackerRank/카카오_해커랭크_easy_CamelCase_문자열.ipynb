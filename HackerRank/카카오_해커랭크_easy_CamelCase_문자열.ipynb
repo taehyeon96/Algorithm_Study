{
 "cells": [
  {
   "cell_type": "code",
   "execution_count": 10,
   "id": "5e1901ca",
   "metadata": {},
   "outputs": [
    {
     "name": "stdout",
     "output_type": "stream",
     "text": [
      "5\n"
     ]
    }
   ],
   "source": [
    "def camelcase(s):\n",
    "    # Write your code here\n",
    "    ans = 1\n",
    "    upper = ['A','B','C','D','E','F','G','H','I','J','K','L','M','N','O','P','Q','R','S','T','U','V','W','X','Y','Z']\n",
    "\n",
    "    for i in s:\n",
    "        if i in upper:\n",
    "            ans += 1\n",
    "    return ans    \n",
    "    \n",
    "print(camelcase('saveChangesInTheEditor'))"
   ]
  }
 ],
 "metadata": {
  "kernelspec": {
   "display_name": "Python 3 (ipykernel)",
   "language": "python",
   "name": "python3"
  },
  "language_info": {
   "codemirror_mode": {
    "name": "ipython",
    "version": 3
   },
   "file_extension": ".py",
   "mimetype": "text/x-python",
   "name": "python",
   "nbconvert_exporter": "python",
   "pygments_lexer": "ipython3",
   "version": "3.9.7"
  }
 },
 "nbformat": 4,
 "nbformat_minor": 5
}
