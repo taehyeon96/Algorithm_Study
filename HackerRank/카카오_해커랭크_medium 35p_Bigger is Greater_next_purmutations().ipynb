{
 "cells": [
  {
   "cell_type": "markdown",
   "id": "335e7e3f",
   "metadata": {},
   "source": [
    "### 메모한 것\n",
    "\n",
    "간단한 문자열 비교 문제임(=숫자처럼 비교됨)\n",
    "\n",
    "분명 쉬운문제인데 왜 틀린가 했더니 \n",
    "* 주어진 문자열보다 큰 것 중에서 제일 작은것 이었음...\n",
    "    - 큰것만 리스트에 넣어주고\n",
    "    - 그중에서 min값을 출력\n",
    "    \n",
    "* 시간초과뜸"
   ]
  },
  {
   "cell_type": "code",
   "execution_count": 45,
   "id": "5bfbd184",
   "metadata": {},
   "outputs": [
    {
     "name": "stdout",
     "output_type": "stream",
     "text": [
      "hcdk\n"
     ]
    }
   ],
   "source": [
    "from itertools import permutations\n",
    "\n",
    "def biggerIsGreater(w):\n",
    "    leng = len(w)\n",
    "    flag = False\n",
    "    ans = []\n",
    "    for i in permutations(w, leng):\n",
    "        tmp = \"\".join(map(str,i))\n",
    "        if w < tmp:\n",
    "            ans.append(tmp)\n",
    "            \n",
    "    if not ans:\n",
    "        return \"no answer\"\n",
    "    else:\n",
    "        return min(ans)\n",
    "        \n",
    "print(biggerIsGreater('dkhc'))"
   ]
  },
  {
   "cell_type": "code",
   "execution_count": 55,
   "id": "f91fe67f",
   "metadata": {},
   "outputs": [
    {
     "name": "stdout",
     "output_type": "stream",
     "text": [
      "dkhc\n",
      "hcdk\n"
     ]
    }
   ],
   "source": [
    "s = list(input())\n",
    "\n",
    "def biggerIsGreater(arr):\n",
    "    i,j = len(arr)-1, len(arr)-1\n",
    "    \n",
    "    #증가하는 형태를 찾을때까지\n",
    "    while i > 0 and arr[i-1] >= arr[i]:\n",
    "        i -= 1\n",
    "        \n",
    "    if i == 0:\n",
    "        return False\n",
    "    \n",
    "    while arr[i-1] >= arr[j]:\n",
    "            j -= 1\n",
    "            \n",
    "    arr[i-1], arr[j] = arr[j], arr[i-1]\n",
    "    \n",
    "    k = len(arr)-1\n",
    "    \n",
    "    #엇갈릴 때까지\n",
    "    while i < k:\n",
    "        arr[i],arr[k] = arr[k],arr[i]\n",
    "        i += 1\n",
    "        k -= 1\n",
    "    answer = \"\".join(map(str,arr))\n",
    "    return answer\n",
    "\n",
    "print(biggerIsGreater(s))"
   ]
  }
 ],
 "metadata": {
  "kernelspec": {
   "display_name": "Python 3 (ipykernel)",
   "language": "python",
   "name": "python3"
  },
  "language_info": {
   "codemirror_mode": {
    "name": "ipython",
    "version": 3
   },
   "file_extension": ".py",
   "mimetype": "text/x-python",
   "name": "python",
   "nbconvert_exporter": "python",
   "pygments_lexer": "ipython3",
   "version": "3.9.7"
  }
 },
 "nbformat": 4,
 "nbformat_minor": 5
}
