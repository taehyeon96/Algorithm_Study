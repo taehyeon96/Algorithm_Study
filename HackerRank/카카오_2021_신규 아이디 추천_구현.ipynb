{
 "cells": [
  {
   "cell_type": "code",
   "execution_count": null,
   "id": "a57e0dbd",
   "metadata": {},
   "outputs": [],
   "source": [
    "def solution(new_id):\n",
    "    stopword = \"~!@#$%^&*()=+[{]}:?,<>/\"   \n",
    "    \n",
    "    # 1단계\n",
    "    tmp = list(new_id.lower())\n",
    "    \n",
    "    # 2단계\n",
    "    tmp2 = [data for data in tmp if data not in stopword]\n",
    "    \n",
    "    # 3단계\n",
    "    answer = []\n",
    "    tmp4 = 0\n",
    "    for i in tmp2:\n",
    "        if i == '.':  tmp4 += 1\n",
    "        else:\n",
    "            if tmp4 > 0:\n",
    "                answer.append('.')\n",
    "                answer.append(i)\n",
    "            else:\n",
    "                answer.append(i)\n",
    "            tmp4 = 0\n",
    "            \n",
    "    # 4단계\n",
    "    if answer and answer[0] == '.': del answer[0]\n",
    "    if answer and answer[-1] == '.': del answer[-1]\n",
    "        \n",
    "    # 5단계\n",
    "    if not answer:\n",
    "        answer.append('a')\n",
    "        \n",
    "    # 6단계\n",
    "    if len(answer) >= 16: answer = answer[:15]\n",
    "    if answer[-1] == '.': del answer[-1]\n",
    "        \n",
    "    # 7단계\n",
    "    while(len(answer)<=2):\n",
    "        answer.append(answer[-1])\n",
    "    \n",
    "    return \"\".join(answer)"
   ]
  }
 ],
 "metadata": {
  "kernelspec": {
   "display_name": "Python 3 (ipykernel)",
   "language": "python",
   "name": "python3"
  },
  "language_info": {
   "codemirror_mode": {
    "name": "ipython",
    "version": 3
   },
   "file_extension": ".py",
   "mimetype": "text/x-python",
   "name": "python",
   "nbconvert_exporter": "python",
   "pygments_lexer": "ipython3",
   "version": "3.9.7"
  }
 },
 "nbformat": 4,
 "nbformat_minor": 5
}
