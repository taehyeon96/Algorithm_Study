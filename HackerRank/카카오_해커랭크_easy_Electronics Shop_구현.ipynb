{
 "cells": [
  {
   "cell_type": "markdown",
   "id": "d4a77d31",
   "metadata": {},
   "source": [
    "### 메모한 것\n",
    "input이 다음과 같음\n",
    "첫째줄 : 예산  키보드수  드라이브수\n",
    "둘째줄 : 키보드\n",
    "셋째줄 : 드라이브"
   ]
  },
  {
   "cell_type": "code",
   "execution_count": 4,
   "id": "38cedfff",
   "metadata": {},
   "outputs": [
    {
     "name": "stdout",
     "output_type": "stream",
     "text": [
      "9\n"
     ]
    }
   ],
   "source": [
    "def getMoneySpent(keyboards, drives, b):\n",
    "    ans = -1\n",
    "    \n",
    "    for i in keyboards:\n",
    "        for j in drives:\n",
    "            if i + j <= b:\n",
    "                ans = max(ans, i + j)\n",
    "    return ans\n",
    "    \n",
    "b = 10\n",
    "keyboards = [3,1]\n",
    "drives = [5,2,8]\n",
    "\n",
    "print(getMoneySpent(keyboards, drives, b))"
   ]
  },
  {
   "cell_type": "code",
   "execution_count": 2,
   "id": "1e4a74a0",
   "metadata": {},
   "outputs": [
    {
     "name": "stdout",
     "output_type": "stream",
     "text": [
      "-1\n"
     ]
    }
   ],
   "source": [
    "def getMoneySpent(keyboards, drives, b):\n",
    "    ans = -1\n",
    "    \n",
    "    for i in keyboards:\n",
    "        for j in drives:\n",
    "            if i + j < b:\n",
    "                ans = max(ans, i + j)\n",
    "    return ans\n",
    "    \n",
    "b = 5\n",
    "keyboards = [4]\n",
    "drives = [5]\n",
    "\n",
    "print(getMoneySpent(keyboards, drives, b))"
   ]
  }
 ],
 "metadata": {
  "kernelspec": {
   "display_name": "Python 3 (ipykernel)",
   "language": "python",
   "name": "python3"
  },
  "language_info": {
   "codemirror_mode": {
    "name": "ipython",
    "version": 3
   },
   "file_extension": ".py",
   "mimetype": "text/x-python",
   "name": "python",
   "nbconvert_exporter": "python",
   "pygments_lexer": "ipython3",
   "version": "3.9.7"
  }
 },
 "nbformat": 4,
 "nbformat_minor": 5
}
