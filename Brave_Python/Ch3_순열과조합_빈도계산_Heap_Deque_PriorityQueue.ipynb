{
 "cells": [
  {
   "cell_type": "markdown",
   "metadata": {},
   "source": [
    "## 이번 챕터 내용\n",
    "* 순열, 조합\n",
    "* 빈도계산\n",
    "* 덱\n",
    "* 우선순위 큐\n",
    "\n",
    "---"
   ]
  },
  {
   "cell_type": "markdown",
   "metadata": {},
   "source": [
    "# 1. 순열, 조합"
   ]
  },
  {
   "cell_type": "markdown",
   "metadata": {},
   "source": [
    "## 1-1. 순수한 방법\n",
    " * nC2 는 가능\n",
    " * nC3 nC4 등은 for문으로 한계가 있음"
   ]
  },
  {
   "cell_type": "code",
   "execution_count": 15,
   "metadata": {},
   "outputs": [
    {
     "name": "stdout",
     "output_type": "stream",
     "text": [
      "0 1\n",
      "0 2\n",
      "0 3\n",
      "0 4\n",
      "1 2\n",
      "1 3\n",
      "1 4\n",
      "2 3\n",
      "2 4\n",
      "3 4\n",
      "5C2 =  10\n"
     ]
    }
   ],
   "source": [
    "''' nC2 구하기 '''\n",
    "N = 5\n",
    "cnt = 0\n",
    "for i in range(N-1): \n",
    "    for j in range(i+1, N): \n",
    "        print(i, j)\n",
    "        cnt += 1\n",
    "print(\"5C2 = \", cnt)"
   ]
  },
  {
   "cell_type": "markdown",
   "metadata": {},
   "source": [
    "## 1-2. 조합 combinations (중복 없이 출력)"
   ]
  },
  {
   "cell_type": "code",
   "execution_count": 7,
   "metadata": {},
   "outputs": [],
   "source": [
    "from itertools import combinations          # 조합"
   ]
  },
  {
   "cell_type": "code",
   "execution_count": 16,
   "metadata": {},
   "outputs": [
    {
     "name": "stdout",
     "output_type": "stream",
     "text": [
      "[(1, 2, 3), (1, 2, 4), (1, 3, 4), (2, 3, 4)]\n",
      "* 4C3 =  4\n"
     ]
    }
   ],
   "source": [
    "# 4C3 출력\n",
    "print(list(combinations([1, 2, 3, 4], 3)))\n",
    "\n",
    "#                첫 번째 인자 = 리스트, 두 번째 인자 = nCm일 경우, m\n",
    "\n",
    "print(\"* 4C3 = \", len(list(combinations([1,2,3,4], 3))))"
   ]
  },
  {
   "cell_type": "code",
   "execution_count": 14,
   "metadata": {},
   "outputs": [
    {
     "name": "stdout",
     "output_type": "stream",
     "text": [
      "[(0, 1), (0, 2), (0, 3), (0, 4), (1, 2), (1, 3), (1, 4), (2, 3), (2, 4), (3, 4)]\n",
      "* 5C2 =  10\n"
     ]
    }
   ],
   "source": [
    "# 5C2\n",
    "print(list(combinations([0,1,2,3,4], 2)))\n",
    "\n",
    "print(\"* 5C2 = \", len(list(combinations([0,1,2,3,4], 2))))"
   ]
  },
  {
   "cell_type": "code",
   "execution_count": 52,
   "metadata": {},
   "outputs": [
    {
     "name": "stdout",
     "output_type": "stream",
     "text": [
      "4 2\n",
      "1 2\n",
      "1 3\n",
      "1 4\n",
      "2 3\n",
      "2 4\n",
      "3 4\n"
     ]
    }
   ],
   "source": [
    "''' 백준 15650 - 내가 푼(블로그 참고) '''\n",
    "from itertools import combinations    # iter tools의 조합(콤비네이션s)\n",
    "\n",
    "n, m = map(int, input().split())\n",
    "\n",
    "# 리스트를 따로 만들지 않고 한줄에 해줬으며, (중요) 이때 각 원소를 str()로 변환해줘야 함\n",
    "result = list(combinations([str(i) for i in range(1, n+1)], m)) \n",
    "\n",
    "for i in result:\n",
    "    print(\" \".join(i))\n",
    "\n",
    "#                첫 번째 인자 = 리스트, 두 번째 인자 = nCm일 경우, m"
   ]
  },
  {
   "cell_type": "markdown",
   "metadata": {},
   "source": [
    "## 1-3. 순열 permutations (중복 포함 모든 경우의 수 출력)"
   ]
  },
  {
   "cell_type": "code",
   "execution_count": 53,
   "metadata": {
    "scrolled": false
   },
   "outputs": [
    {
     "name": "stdout",
     "output_type": "stream",
     "text": [
      "4 2\n",
      "1 2\n",
      "1 3\n",
      "1 4\n",
      "2 1\n",
      "2 3\n",
      "2 4\n",
      "3 1\n",
      "3 2\n",
      "3 4\n",
      "4 1\n",
      "4 2\n",
      "4 3\n"
     ]
    }
   ],
   "source": [
    "''' 백준 15649 - 내가 푼(블로그 참고) '''\n",
    "from itertools import permutations     # iter tools의 순열 (<--> 조합 combinations)\n",
    "\n",
    "n, m = map(int, input().split())\n",
    "\n",
    "# 리스트를 따로 만들지 않고 한줄에 해줬으며, (중요) 이때 각 원소를 str()로 변환해줘야 함\n",
    "result = list(permutations([str(i) for i in range(1, n+1)], m)) \n",
    "\n",
    "for i in result:\n",
    "    print(\" \".join(i))\n",
    "\n",
    "#                첫 번째 인자 = 리스트, 두 번째 인자 = nCm일 경우, m"
   ]
  },
  {
   "cell_type": "markdown",
   "metadata": {},
   "source": [
    "## 1-4. 순열과 조합 참고 팁"
   ]
  },
  {
   "cell_type": "code",
   "execution_count": null,
   "metadata": {},
   "outputs": [],
   "source": [
    "''' 중복 조합 '''\n",
    "from itertools import combinations_with_replacement\n",
    "\n",
    "''' 중복 순열 '''\n",
    "from itertools import product"
   ]
  },
  {
   "cell_type": "code",
   "execution_count": null,
   "metadata": {},
   "outputs": [],
   "source": []
  },
  {
   "cell_type": "code",
   "execution_count": null,
   "metadata": {},
   "outputs": [],
   "source": []
  },
  {
   "cell_type": "code",
   "execution_count": null,
   "metadata": {},
   "outputs": [],
   "source": []
  },
  {
   "cell_type": "code",
   "execution_count": null,
   "metadata": {},
   "outputs": [],
   "source": []
  },
  {
   "cell_type": "code",
   "execution_count": null,
   "metadata": {},
   "outputs": [],
   "source": []
  }
 ],
 "metadata": {
  "kernelspec": {
   "display_name": "Python 3",
   "language": "python",
   "name": "python3"
  },
  "language_info": {
   "codemirror_mode": {
    "name": "ipython",
    "version": 3
   },
   "file_extension": ".py",
   "mimetype": "text/x-python",
   "name": "python",
   "nbconvert_exporter": "python",
   "pygments_lexer": "ipython3",
   "version": "3.8.5"
  }
 },
 "nbformat": 4,
 "nbformat_minor": 4
}
