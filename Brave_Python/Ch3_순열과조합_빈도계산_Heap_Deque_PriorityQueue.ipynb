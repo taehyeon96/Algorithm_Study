{
 "cells": [
  {
   "cell_type": "markdown",
   "metadata": {},
   "source": [
    "## 이번 챕터 내용\n",
    "* 순열, 조합\n",
    "* 빈도계산\n",
    "* 덱\n",
    "* 우선순위 큐\n",
    "\n",
    "---"
   ]
  },
  {
   "cell_type": "markdown",
   "metadata": {},
   "source": [
    "# 1. 순열, 조합"
   ]
  },
  {
   "cell_type": "markdown",
   "metadata": {},
   "source": [
    "## 1-1. 순수한 방법\n",
    " * nC2 는 가능\n",
    " * nC3 nC4 등은 for문으로 한계가 있음"
   ]
  },
  {
   "cell_type": "code",
   "execution_count": 15,
   "metadata": {},
   "outputs": [
    {
     "name": "stdout",
     "output_type": "stream",
     "text": [
      "0 1\n",
      "0 2\n",
      "0 3\n",
      "0 4\n",
      "1 2\n",
      "1 3\n",
      "1 4\n",
      "2 3\n",
      "2 4\n",
      "3 4\n",
      "5C2 =  10\n"
     ]
    }
   ],
   "source": [
    "''' nC2 구하기 '''\n",
    "N = 5\n",
    "cnt = 0\n",
    "for i in range(N-1): \n",
    "    for j in range(i+1, N): \n",
    "        print(i, j)\n",
    "        cnt += 1\n",
    "print(\"5C2 = \", cnt)"
   ]
  },
  {
   "cell_type": "markdown",
   "metadata": {},
   "source": [
    "## 1-2. 조합 combinations (중복 없이 출력)"
   ]
  },
  {
   "cell_type": "code",
   "execution_count": 7,
   "metadata": {},
   "outputs": [],
   "source": [
    "from itertools import combinations          # 조합"
   ]
  },
  {
   "cell_type": "code",
   "execution_count": 16,
   "metadata": {},
   "outputs": [
    {
     "name": "stdout",
     "output_type": "stream",
     "text": [
      "[(1, 2, 3), (1, 2, 4), (1, 3, 4), (2, 3, 4)]\n",
      "* 4C3 =  4\n"
     ]
    }
   ],
   "source": [
    "# 4C3 출력\n",
    "print(list(combinations([1, 2, 3, 4], 3)))\n",
    "\n",
    "#                첫 번째 인자 = 리스트, 두 번째 인자 = nCm일 경우, m\n",
    "\n",
    "print(\"* 4C3 = \", len(list(combinations([1,2,3,4], 3))))"
   ]
  },
  {
   "cell_type": "code",
   "execution_count": 14,
   "metadata": {},
   "outputs": [
    {
     "name": "stdout",
     "output_type": "stream",
     "text": [
      "[(0, 1), (0, 2), (0, 3), (0, 4), (1, 2), (1, 3), (1, 4), (2, 3), (2, 4), (3, 4)]\n",
      "* 5C2 =  10\n"
     ]
    }
   ],
   "source": [
    "# 5C2\n",
    "print(list(combinations([0,1,2,3,4], 2)))\n",
    "\n",
    "print(\"* 5C2 = \", len(list(combinations([0,1,2,3,4], 2))))"
   ]
  },
  {
   "cell_type": "code",
   "execution_count": 52,
   "metadata": {},
   "outputs": [
    {
     "name": "stdout",
     "output_type": "stream",
     "text": [
      "4 2\n",
      "1 2\n",
      "1 3\n",
      "1 4\n",
      "2 3\n",
      "2 4\n",
      "3 4\n"
     ]
    }
   ],
   "source": [
    "''' 백준 15650 - 내가 푼(블로그 참고) '''\n",
    "from itertools import combinations    # iter tools의 조합(콤비네이션s)\n",
    "\n",
    "n, m = map(int, input().split())\n",
    "\n",
    "# 리스트를 따로 만들지 않고 한줄에 해줬으며, (중요) 이때 각 원소를 str()로 변환해줘야 함\n",
    "result = list(combinations([str(i) for i in range(1, n+1)], m)) \n",
    "\n",
    "for i in result:\n",
    "    print(\" \".join(i))\n",
    "\n",
    "#                첫 번째 인자 = 리스트, 두 번째 인자 = nCm일 경우, m"
   ]
  },
  {
   "cell_type": "markdown",
   "metadata": {},
   "source": [
    "## 1-3. 순열 permutations (중복 포함 모든 경우의 수 출력)"
   ]
  },
  {
   "cell_type": "code",
   "execution_count": 53,
   "metadata": {
    "scrolled": false
   },
   "outputs": [
    {
     "name": "stdout",
     "output_type": "stream",
     "text": [
      "4 2\n",
      "1 2\n",
      "1 3\n",
      "1 4\n",
      "2 1\n",
      "2 3\n",
      "2 4\n",
      "3 1\n",
      "3 2\n",
      "3 4\n",
      "4 1\n",
      "4 2\n",
      "4 3\n"
     ]
    }
   ],
   "source": [
    "''' 백준 15649 - 내가 푼(블로그 참고) '''\n",
    "from itertools import permutations     # iter tools의 순열 (<--> 조합 combinations)\n",
    "\n",
    "n, m = map(int, input().split())\n",
    "\n",
    "# 리스트를 따로 만들지 않고 한줄에 해줬으며, (중요) 이때 각 원소를 str()로 변환해줘야 함\n",
    "result = list(permutations([str(i) for i in range(1, n+1)], m)) \n",
    "\n",
    "for i in result:\n",
    "    print(\" \".join(i))\n",
    "\n",
    "#                첫 번째 인자 = 리스트, 두 번째 인자 = nCm일 경우, m"
   ]
  },
  {
   "cell_type": "markdown",
   "metadata": {},
   "source": [
    "## 1-4. 순열과 조합 참고 팁"
   ]
  },
  {
   "cell_type": "code",
   "execution_count": null,
   "metadata": {},
   "outputs": [],
   "source": [
    "''' 중복 조합 '''\n",
    "from itertools import combinations_with_replacement\n",
    "\n",
    "''' 중복 순열 '''\n",
    "from itertools import product"
   ]
  },
  {
   "cell_type": "markdown",
   "metadata": {},
   "source": [
    "---\n",
    "# 2. 빈도계산\n",
    "* (중요) 대부분 기업 코딩테스트에서 모르면 조금 고생하는 내용\n",
    "* .count말고, __\"collections의 Counter함수\" 활용__"
   ]
  },
  {
   "cell_type": "code",
   "execution_count": 1,
   "metadata": {},
   "outputs": [],
   "source": [
    "from collections import Counter"
   ]
  },
  {
   "cell_type": "code",
   "execution_count": 17,
   "metadata": {},
   "outputs": [
    {
     "name": "stdout",
     "output_type": "stream",
     "text": [
      "10\n",
      "40\n",
      "30\n",
      "60\n",
      "30\n",
      "20\n",
      "60\n",
      "30\n",
      "40\n",
      "50\n",
      "37\n",
      "30\n"
     ]
    }
   ],
   "source": [
    "''' 백준 2592 '''\n",
    "\n",
    "''' 안썼을 경우 - 내가 품 '''\n",
    "result = []\n",
    "arr = [0]*100   # 10의 배수니까 1000개까지 필요없고, 100개만 만들어줬음(메모리 때문)\n",
    "\n",
    "for i in range(10):\n",
    "    result.append(int(input()))\n",
    "    arr[result[i]//10] += 1      # 1000개 만들고 arr[result[i]] 로 해줘도 됨\n",
    "    \n",
    "print(sum(result)//10)\n",
    "print(arr.index(max(arr))*10)    # 인덱스값으로 가져옴\n",
    "\n",
    "\n",
    "''' 썼을 경우 - 블로그 참고 '''\n",
    "from collections import Counter\n",
    "\n",
    "result = [int(input()) for _ in range(10)]   # (중요)\n",
    "\n",
    "print(sum(result)//10)\n",
    "\n",
    "a = Counter(result).most_common()\n",
    "print(a[0][0])                       # a를 출력하면 튜플형태로 출력됨"
   ]
  },
  {
   "cell_type": "code",
   "execution_count": 18,
   "metadata": {},
   "outputs": [
    {
     "name": "stdout",
     "output_type": "stream",
     "text": [
      "[(30, 3), (40, 2), (60, 2), (10, 1), (20, 1), (50, 1)]\n"
     ]
    }
   ],
   "source": [
    "print(a)"
   ]
  },
  {
   "cell_type": "code",
   "execution_count": null,
   "metadata": {},
   "outputs": [],
   "source": [
    "''' 백준 1157 '''"
   ]
  },
  {
   "cell_type": "code",
   "execution_count": null,
   "metadata": {},
   "outputs": [],
   "source": []
  },
  {
   "cell_type": "code",
   "execution_count": null,
   "metadata": {},
   "outputs": [],
   "source": []
  },
  {
   "cell_type": "code",
   "execution_count": null,
   "metadata": {},
   "outputs": [],
   "source": []
  },
  {
   "cell_type": "code",
   "execution_count": null,
   "metadata": {},
   "outputs": [],
   "source": []
  }
 ],
 "metadata": {
  "kernelspec": {
   "display_name": "Python 3",
   "language": "python",
   "name": "python3"
  },
  "language_info": {
   "codemirror_mode": {
    "name": "ipython",
    "version": 3
   },
   "file_extension": ".py",
   "mimetype": "text/x-python",
   "name": "python",
   "nbconvert_exporter": "python",
   "pygments_lexer": "ipython3",
   "version": "3.8.5"
  }
 },
 "nbformat": 4,
 "nbformat_minor": 4
}
