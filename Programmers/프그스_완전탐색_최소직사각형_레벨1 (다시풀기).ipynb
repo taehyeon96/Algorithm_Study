{
 "cells": [
  {
   "cell_type": "markdown",
   "metadata": {},
   "source": [
    "### 메모한 것\n",
    "\n",
    "브루트포스 문제니까\n",
    "\n",
    "걍 모든 경우의 수 다 해보면 되는 거 아님?\n",
    "일단 mim(a,b)를 활용해야 하는데\n",
    "\n",
    "\n",
    "### 알고리즘\n",
    "```\n",
    "예를들면\n",
    "max_w = max(가로)\n",
    "max_h = max(세로)\n",
    "기본적으로 wallet = max_w * max_h 해놓고\n",
    "\n",
    "for i in range(len(sizes)):\n",
    "    가로[i], 세로[i] = 세로[i], 가로[i]          # 하나씩 기울여준다\n",
    "    wallet = min(wallet, max(가로)*max(세로))\n",
    "    가로[i], 세로[i] = 세로[i], 가로[i]          # 브루트포스를 위해 돌려놓자\n",
    "  \n",
    "\n",
    "```"
   ]
  },
  {
   "cell_type": "code",
   "execution_count": 18,
   "metadata": {},
   "outputs": [
    {
     "name": "stdout",
     "output_type": "stream",
     "text": [
      "4000\n",
      "180\n",
      "209\n"
     ]
    }
   ],
   "source": [
    "def solution(sizes):\n",
    "    # 가로 세로 분리\n",
    "    w = [i[0] for i in sizes]\n",
    "    h = [i[1] for i in sizes]\n",
    "            \n",
    "    wallet = max(w) * max(h)\n",
    "    leng = len(sizes)\n",
    "    for i in range(leng):        \n",
    "        w[i], h[i] = h[i], w[i]   # swap\n",
    "        wallet = min(wallet, max(w) * max(h))\n",
    "        w[i], h[i] = h[i], w[i]\n",
    "    \n",
    "    return wallet\n",
    "    \n",
    "print(solution([[60, 50], [30, 70], [60, 30], [80, 40]]))\n",
    "print(solution([[10, 7], [12, 3], [8, 15], [14, 7], [5, 15]]))\n",
    "print(solution([[14, 4], [19, 6], [6, 16], [18, 7], [7, 11]]))"
   ]
  },
  {
   "cell_type": "code",
   "execution_count": 35,
   "metadata": {},
   "outputs": [
    {
     "name": "stdout",
     "output_type": "stream",
     "text": [
      "3200\n",
      "120\n",
      "126\n"
     ]
    }
   ],
   "source": [
    "def solution(sizes):\n",
    "    # 가로 세로 분리\n",
    "    w = [i[0] for i in sizes]\n",
    "    h = [i[1] for i in sizes]\n",
    "       \n",
    "    leng = len(sizes)\n",
    "    wallet = 0\n",
    "    for i in range(leng):         # i가 기준점\n",
    "        for j in range(leng):     # j가 모든경우\n",
    "            if (w[j] <= w[i] and h[j] <= h[i]):   # 현상태\n",
    "                wallet = max(wallet, w[j] * h[j])\n",
    "            if (h[j] <= w[i] and w[j] <= h[i]):   # 스왑상태\n",
    "                wallet = max(wallet, w[j] * h[j])\n",
    "    \n",
    "    return wallet\n",
    "    \n",
    "print(solution([[60, 50], [30, 70], [60, 30], [80, 40]]))\n",
    "print(solution([[10, 7], [12, 3], [8, 15], [14, 7], [5, 15]]))\n",
    "print(solution([[14, 4], [19, 6], [6, 16], [18, 7], [7, 11]]))"
   ]
  },
  {
   "cell_type": "code",
   "execution_count": 34,
   "metadata": {},
   "outputs": [
    {
     "name": "stdout",
     "output_type": "stream",
     "text": [
      "[60, 70, 60, 80]\n",
      "[50, 30, 30, 40]\n",
      "4000\n",
      "[10, 12, 15, 14, 15]\n",
      "[7, 3, 8, 7, 5]\n",
      "120\n",
      "[14, 19, 16, 18, 11]\n",
      "[4, 6, 6, 7, 7]\n",
      "133\n"
     ]
    }
   ],
   "source": [
    "def solution(sizes):\n",
    "    w = []\n",
    "    h = []\n",
    "    for i in range(len(sizes)):\n",
    "        if sizes[i][0] >= sizes[i][1]:\n",
    "            w.append(sizes[i][0])\n",
    "            h.append(sizes[i][1])\n",
    "        else:\n",
    "            h.append(sizes[i][0])\n",
    "            w.append(sizes[i][1])\n",
    "\n",
    "    print(w)\n",
    "    print(h)\n",
    "    return max(w) * max(h)\n",
    "\n",
    "print(solution([[60, 50], [30, 70], [60, 30], [80, 40]]))\n",
    "print(solution([[10, 7], [12, 3], [8, 15], [14, 7], [5, 15]]))\n",
    "print(solution([[14, 4], [19, 6], [6, 16], [18, 7], [7, 11]]))"
   ]
  }
 ],
 "metadata": {
  "kernelspec": {
   "display_name": "Python 3",
   "language": "python",
   "name": "python3"
  },
  "language_info": {
   "codemirror_mode": {
    "name": "ipython",
    "version": 3
   },
   "file_extension": ".py",
   "mimetype": "text/x-python",
   "name": "python",
   "nbconvert_exporter": "python",
   "pygments_lexer": "ipython3",
   "version": "3.8.5"
  }
 },
 "nbformat": 4,
 "nbformat_minor": 4
}
