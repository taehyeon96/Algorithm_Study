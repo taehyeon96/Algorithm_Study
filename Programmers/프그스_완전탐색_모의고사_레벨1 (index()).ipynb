{
 "cells": [
  {
   "cell_type": "markdown",
   "metadata": {},
   "source": [
    "### 메모한 것\n",
    "\n",
    "각 a번 수포자가 찍을 때 다른데\n",
    "    - 1번은 1~5 반복\n",
    "    - 2번은 [2 1] [2 3] [2 4] [2 5] [2 1] [2 3] 이렇게, 2는 제외!\n",
    "    - 3번은 3-1-2-4-5를 각각 두 번씩\n",
    "\n",
    "브루트포스->answer와 하나씩 매칭(==)시켜서 cnt가 많은 사람이 누구인지\n",
    "\n",
    "높은 점수 받은 사람이 여러 명이면, asc정렬\n"
   ]
  },
  {
   "cell_type": "code",
   "execution_count": 38,
   "metadata": {},
   "outputs": [
    {
     "name": "stdout",
     "output_type": "stream",
     "text": [
      "[1]\n",
      "[1, 2, 3]\n"
     ]
    }
   ],
   "source": [
    "def solution(answers):\n",
    "    answer = [0,0,0]\n",
    "    leng = len(answers)\n",
    "    ans = []\n",
    "    \n",
    "    man1 = [i+1 for i in range(5)]*2000\n",
    "    man2 = [2,1,2,3,2,4,2,5] * 1250\n",
    "    man3 = [3,3,1,1,2,2,4,4,5,5]*1000\n",
    "    \n",
    "    for i in range(leng):\n",
    "        if man1[i] == answers[i]:  answer[0] += 1\n",
    "        if man2[i] == answers[i]:  answer[1] += 1\n",
    "        if man3[i] == answers[i]:  answer[2] += 1\n",
    "        \n",
    "    indexer = answer.index(max(answer))\n",
    "    \n",
    "    for i in range(3):\n",
    "        if answer[i] == answer[indexer]:\n",
    "            ans.append(i+1)\n",
    "            \n",
    "    return ans\n",
    "\n",
    "print(solution([1,2,3,4,5]))\n",
    "print(solution([1,3,2,4,2]))"
   ]
  }
 ],
 "metadata": {
  "kernelspec": {
   "display_name": "Python 3",
   "language": "python",
   "name": "python3"
  },
  "language_info": {
   "codemirror_mode": {
    "name": "ipython",
    "version": 3
   },
   "file_extension": ".py",
   "mimetype": "text/x-python",
   "name": "python",
   "nbconvert_exporter": "python",
   "pygments_lexer": "ipython3",
   "version": "3.8.5"
  }
 },
 "nbformat": 4,
 "nbformat_minor": 4
}
