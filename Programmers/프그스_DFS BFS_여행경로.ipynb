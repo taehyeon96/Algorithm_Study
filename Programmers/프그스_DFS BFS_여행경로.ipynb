{
 "cells": [
  {
   "cell_type": "markdown",
   "metadata": {},
   "source": [
    "# 문제 이해\n",
    "* 시작은 항상 a이고,\n",
    "* input = [a,b], [e,d], [b,e] 이렇게 있으면\n",
    "  - 시작이 항상 a니까, a->b 일단 가고, b->e, e-d 따라서 a->b->e->d 이렇게 가는거\n",
    "  \n",
    "# 메모\n",
    "\n",
    "* 항상 ICN에서 출발\n",
    "\n",
    "* 출력은 \"방문하는 공항 경로\"\n",
    "\n",
    "* 동일한 출발선 (inc, sfo) vs (inc, atl)이 있을 때, 목적지를 알파벳 순서로 체크해서 먼저 간다.\n",
    "   - 이때, 주어진 항공권은 모두 사용해야 하므로,\n",
    "   - atl을 갔을 때, 가야할 경로들이 남아있음에도 불구하고, atl 다음 경로가 없으면 sfo를 가야한다!!\n",
    "\n",
    "* DFS인지 BFS인지는 모르겠으나 일단 queue를 사용해야할 것 같음\n",
    "  \n",
    "  "
   ]
  },
  {
   "cell_type": "code",
   "execution_count": 95,
   "metadata": {
    "scrolled": true
   },
   "outputs": [
    {
     "data": {
      "text/plain": [
       "['ICN', 'ICN']"
      ]
     },
     "execution_count": 95,
     "metadata": {},
     "output_type": "execute_result"
    }
   ],
   "source": [
    "def dfs(i, ticket, num, visit, answer):\n",
    "    visit[i] = True\n",
    "        \n",
    "    for tic in range(num):\n",
    "        if ticket[i][1]==ticket[tic][0] and visit[tic] == False:\n",
    "            answer.append(ticket[tic][0])\n",
    "            dfs(tic, ticket, num, visit, answer)\n",
    "        if tic == num-1:\n",
    "            answer.append(ticket[tic][1])\n",
    "         \n",
    "    \n",
    "def solution(ticket):\n",
    "    num = len(ticket)\n",
    "    answer = []\n",
    "    visit = [False]*num\n",
    "            \n",
    "    ticket.sort(key = lambda x:x[1]) # 1번 인덱스를 기준으로 정렬\n",
    "    answer.append('ICN')\n",
    "    tmp = []\n",
    "    for i in range(num):\n",
    "        if ticket[i][0]==\"ICN\":\n",
    "            ticket.insert(0,ticket.pop(i))\n",
    "    dfs(0, ticket, num, visit, answer)\n",
    "    \n",
    "    #print(answer)\n",
    "    return answer[:num+1]\n",
    "\n",
    "\n",
    "solution([[\"ICN\", \"JFK\"], [\"ICN\", \"IAD\"], [\"IAD\", \"ICN\"]])\n",
    "#solution([[\"ICN\", \"JFK\"], [\"HND\", \"IAD\"], [\"JFK\", \"HND\"]])\n",
    "#solution([[\"ICN\", \"SFO\"], [\"ICN\", \"ATL\"], [\"SFO\", \"ATL\"], [\"ATL\", \"ICN\"], [\"ATL\",\"SFO\"]])"
   ]
  },
  {
   "cell_type": "code",
   "execution_count": 32,
   "metadata": {},
   "outputs": [
    {
     "name": "stdout",
     "output_type": "stream",
     "text": [
      "[['HND', 'IAD'], ['ICN', 'JFK']]\n",
      "['JFK', 'HND']\n"
     ]
    }
   ],
   "source": [
    "#que1 = deque([[\"ICN\", \"JFK\"], [\"HND\", \"IAD\"], [\"JFK\", \"HND\"]])\n",
    "que1 = [[\"ICN\", \"JFK\"], [\"HND\", \"IAD\"], [\"JFK\", \"HND\"]]\n",
    "que1.sort(key = lambda x:x[1])\n",
    "s = que1.pop(0)\n",
    "print(que1)\n",
    "print(s)"
   ]
  },
  {
   "cell_type": "code",
   "execution_count": 7,
   "metadata": {},
   "outputs": [
    {
     "ename": "TypeError",
     "evalue": "'list' object cannot be interpreted as an integer",
     "output_type": "error",
     "traceback": [
      "\u001b[1;31m---------------------------------------------------------------------------\u001b[0m",
      "\u001b[1;31mTypeError\u001b[0m                                 Traceback (most recent call last)",
      "\u001b[1;32m<ipython-input-7-a697d6cbb392>\u001b[0m in \u001b[0;36m<module>\u001b[1;34m\u001b[0m\n\u001b[0;32m      1\u001b[0m \u001b[0mtmp\u001b[0m \u001b[1;33m=\u001b[0m \u001b[1;33m[\u001b[0m\u001b[1;33m[\u001b[0m\u001b[1;34m\"ICN\"\u001b[0m\u001b[1;33m,\u001b[0m \u001b[1;34m\"SFO\"\u001b[0m\u001b[1;33m]\u001b[0m\u001b[1;33m,\u001b[0m \u001b[1;33m[\u001b[0m\u001b[1;34m\"ICN\"\u001b[0m\u001b[1;33m,\u001b[0m \u001b[1;34m\"ATL\"\u001b[0m\u001b[1;33m]\u001b[0m\u001b[1;33m,\u001b[0m \u001b[1;33m[\u001b[0m\u001b[1;34m\"SFO\"\u001b[0m\u001b[1;33m,\u001b[0m \u001b[1;34m\"ATL\"\u001b[0m\u001b[1;33m]\u001b[0m\u001b[1;33m,\u001b[0m \u001b[1;33m[\u001b[0m\u001b[1;34m\"ATL\"\u001b[0m\u001b[1;33m,\u001b[0m \u001b[1;34m\"ICN\"\u001b[0m\u001b[1;33m]\u001b[0m\u001b[1;33m,\u001b[0m \u001b[1;33m[\u001b[0m\u001b[1;34m\"ATL\"\u001b[0m\u001b[1;33m,\u001b[0m\u001b[1;34m\"SFO\"\u001b[0m\u001b[1;33m]\u001b[0m\u001b[1;33m]\u001b[0m\u001b[1;33m\u001b[0m\u001b[1;33m\u001b[0m\u001b[0m\n\u001b[0;32m      2\u001b[0m \u001b[1;33m\u001b[0m\u001b[0m\n\u001b[1;32m----> 3\u001b[1;33m \u001b[0ma\u001b[0m \u001b[1;33m=\u001b[0m \u001b[0mtmp\u001b[0m\u001b[1;33m.\u001b[0m\u001b[0mpop\u001b[0m\u001b[1;33m(\u001b[0m\u001b[1;33m[\u001b[0m\u001b[1;34m\"ICN\"\u001b[0m\u001b[1;33m,\u001b[0m \u001b[1;34m\"ATL\"\u001b[0m\u001b[1;33m]\u001b[0m\u001b[1;33m)\u001b[0m\u001b[1;33m\u001b[0m\u001b[1;33m\u001b[0m\u001b[0m\n\u001b[0m\u001b[0;32m      4\u001b[0m \u001b[0mprint\u001b[0m\u001b[1;33m(\u001b[0m\u001b[0mtmp\u001b[0m\u001b[1;33m)\u001b[0m\u001b[1;33m\u001b[0m\u001b[1;33m\u001b[0m\u001b[0m\n\u001b[0;32m      5\u001b[0m \u001b[0mprint\u001b[0m\u001b[1;33m(\u001b[0m\u001b[0ma\u001b[0m\u001b[1;33m)\u001b[0m\u001b[1;33m\u001b[0m\u001b[1;33m\u001b[0m\u001b[0m\n",
      "\u001b[1;31mTypeError\u001b[0m: 'list' object cannot be interpreted as an integer"
     ]
    }
   ],
   "source": [
    "tmp = [[\"ICN\", \"SFO\"], [\"ICN\", \"ATL\"], [\"SFO\", \"ATL\"], [\"ATL\", \"ICN\"], [\"ATL\",\"SFO\"]]\t\n",
    "\n",
    "a = tmp.pop([\"ICN\", \"ATL\"])\n",
    "print(tmp)\n",
    "print(a)"
   ]
  },
  {
   "cell_type": "code",
   "execution_count": 72,
   "metadata": {},
   "outputs": [
    {
     "ename": "NameError",
     "evalue": "name 'num' is not defined",
     "output_type": "error",
     "traceback": [
      "\u001b[1;31m---------------------------------------------------------------------------\u001b[0m",
      "\u001b[1;31mNameError\u001b[0m                                 Traceback (most recent call last)",
      "\u001b[1;32m<ipython-input-72-c774dac2b598>\u001b[0m in \u001b[0;36m<module>\u001b[1;34m\u001b[0m\n\u001b[1;32m----> 1\u001b[1;33m \u001b[0mnum\u001b[0m\u001b[1;33m\u001b[0m\u001b[1;33m\u001b[0m\u001b[0m\n\u001b[0m",
      "\u001b[1;31mNameError\u001b[0m: name 'num' is not defined"
     ]
    }
   ],
   "source": [
    "num"
   ]
  },
  {
   "cell_type": "code",
   "execution_count": null,
   "metadata": {},
   "outputs": [],
   "source": []
  },
  {
   "cell_type": "code",
   "execution_count": null,
   "metadata": {},
   "outputs": [],
   "source": []
  }
 ],
 "metadata": {
  "kernelspec": {
   "display_name": "Python 3",
   "language": "python",
   "name": "python3"
  },
  "language_info": {
   "codemirror_mode": {
    "name": "ipython",
    "version": 3
   },
   "file_extension": ".py",
   "mimetype": "text/x-python",
   "name": "python",
   "nbconvert_exporter": "python",
   "pygments_lexer": "ipython3",
   "version": "3.8.5"
  }
 },
 "nbformat": 4,
 "nbformat_minor": 4
}
