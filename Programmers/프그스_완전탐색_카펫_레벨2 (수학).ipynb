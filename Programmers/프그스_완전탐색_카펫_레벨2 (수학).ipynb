{
 "cells": [
  {
   "cell_type": "markdown",
   "metadata": {},
   "source": [
    "### 메모한 것\n",
    "\n",
    "테케를 봤을 때\n",
    "brown + yellow = 넓이 = x * y  이렇게 되는 거잖아\n",
    "\n",
    "밑변의 길이로 계산해보면 어떨까\n",
    "\n",
    "ex) 브라운 10일 때\n",
    "\n",
    "브라운 절반 나눠 = 두줄   || 밑변 5\n",
    "ㅁㅁㅁㅁㅁ\n",
    "ㅁㅁㅁㅁㅁ\n",
    "-1 빼 = 네 줄됨   || 밑변 4\n",
    "ㅁㅁㅁㅁ\n",
    "ㅁ    ㅁ             \n",
    "ㅁㅁㅁㅁ\n",
    "   -> 이때 if 밑변 - 2(양끝) == 옐로우면 => return [밑변, 여태까지 -1한 횟수+2]\n",
    "   \n",
    "-1 빼 = 세 줄됨   || 밑변 3\n",
    "ㅁㅁㅁ\n",
    "ㅁ  ㅁ\n",
    "ㅁ  ㅁ\n",
    "ㅁㅁㅁ\n",
    "-1 빼 = 두 줄됨   || 밑변 2\n",
    "ㅁㅁ\n",
    "ㅁㅁ\n",
    "ㅁㅁ\n",
    "ㅁㅁ\n",
    "ㅁㅁ"
   ]
  },
  {
   "cell_type": "code",
   "execution_count": 6,
   "metadata": {},
   "outputs": [
    {
     "name": "stdout",
     "output_type": "stream",
     "text": [
      "[4, 3]\n",
      "[3, 3]\n",
      "[8, 6]\n"
     ]
    }
   ],
   "source": [
    "''' 1차적으로 푼 -> yellow가 1차원일 때만 정답 가능 '''\n",
    "''' x - 2 == yellow 가 아니라 (x - 2) * cnt == yellow 였다'''\n",
    "def solution(brown, yellow):\n",
    "    answer = []\n",
    "    \n",
    "    x = brown // 2\n",
    "    cnt = 0\n",
    "    \n",
    "    for i in range(1, x+1):\n",
    "        if (x - 2) * cnt == yellow:\n",
    "            return [x, cnt + 2]\n",
    "        else:\n",
    "            cnt += 1                # yellow의 높이\n",
    "            x -= 1                  # 밑변의 길이에 -1\n",
    "            \n",
    "print(solution(10,2))\n",
    "print(solution(8,1))\n",
    "print(solution(24,24))"
   ]
  },
  {
   "cell_type": "code",
   "execution_count": null,
   "metadata": {},
   "outputs": [],
   "source": []
  },
  {
   "cell_type": "markdown",
   "metadata": {},
   "source": [
    "x = 12\n",
    "ㅁㅁㅁㅁㅁㅁㅁㅁㅁㅁ,ㅁㅁ\n",
    "ㅁㅁㅁㅁㅁㅁㅁㅁㅁㅁ,ㅁㅁ\n",
    "\n",
    "x = 11\n",
    "ㅁㅁㅁㅁㅁㅁㅁㅁㅁㅁ,ㅁ\n",
    "ㅁ1 2  3 4 56 7 8 9  ㅁ\n",
    "ㅁㅁㅁㅁㅁㅁㅁㅁㅁㅁ,ㅁ\n",
    "\n",
    "x = 10\n",
    "ㅁㅁㅁㅁㅁㅁㅁㅁㅁㅁ\n",
    "ㅁ910111213141516 ㅁ\n",
    "ㅁ1 2  3 4 56 7 8 ㅁ \n",
    "ㅁㅁㅁㅁㅁㅁㅁㅁㅁㅁ"
   ]
  },
  {
   "cell_type": "code",
   "execution_count": null,
   "metadata": {},
   "outputs": [],
   "source": []
  },
  {
   "cell_type": "code",
   "execution_count": null,
   "metadata": {},
   "outputs": [],
   "source": []
  }
 ],
 "metadata": {
  "kernelspec": {
   "display_name": "Python 3",
   "language": "python",
   "name": "python3"
  },
  "language_info": {
   "codemirror_mode": {
    "name": "ipython",
    "version": 3
   },
   "file_extension": ".py",
   "mimetype": "text/x-python",
   "name": "python",
   "nbconvert_exporter": "python",
   "pygments_lexer": "ipython3",
   "version": "3.8.5"
  }
 },
 "nbformat": 4,
 "nbformat_minor": 4
}
