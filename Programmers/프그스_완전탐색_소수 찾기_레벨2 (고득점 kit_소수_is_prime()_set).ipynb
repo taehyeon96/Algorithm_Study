{
 "cells": [
  {
   "cell_type": "markdown",
   "metadata": {},
   "source": [
    "### 메모한 것\n",
    "\n",
    "이거 permutations로 모든 경우의수 만들어놓고\n",
    "하나씩 꺼내서 is_prime() 하면 되는거아님?\n",
    "\n",
    "* (중요) 풀다가 놓쳐서 추가한 내용\n",
    "    - is_prime()함수에서 0과 1은 제거해줘야함\n",
    "    - 모든 경우의 수를 봐야하기 때문에 permutations를 쓰는건 맞음\n",
    "        - 그래서 combinations를 쓰면 안되는데, 011같은 경우 1이 두개라 101같은게 두 번 나옴\n",
    "        - 마지막에 set으로 중복제거를 해줘야함\n",
    "        - 따라서 애초에 answer += 1이 아닌 answer.append()를 해주고 len()을 리턴해야됐음\n",
    "    "
   ]
  },
  {
   "cell_type": "code",
   "execution_count": 29,
   "metadata": {},
   "outputs": [
    {
     "name": "stdout",
     "output_type": "stream",
     "text": [
      "3\n",
      "2\n"
     ]
    }
   ],
   "source": [
    "## set 써야할거같음 -> combination은 쓰면 안됨 => 17과 71 둘다 나오기 때문\n",
    "\n",
    "from itertools import permutations\n",
    "\n",
    "def is_prime_number(x):\n",
    "    # 소수는 1보다 큰 자연수 중 1과 자신을 약수로 갖는 수\n",
    "    if x == 1 or x == 0:                    \n",
    "        return False\n",
    "    \n",
    "    for i in range(2, x):      # 소수는 1보다 큰 자연수 중에서 이므로 2부터 계산\n",
    "        if x % i == 0:         # 나머지가 0이된다 = 나눠지는 수가 있다면 소수 아님!\n",
    "            return False\n",
    "    return True\n",
    "\n",
    "def solution(numbers):\n",
    "    answer = []\n",
    "    arr = list(map(int,numbers))\n",
    "    leng = len(numbers)\n",
    "    \n",
    "    for j in range(1, leng+1):\n",
    "        for i in permutations(arr, j):\n",
    "            candidate = int(\"\".join(map(str,i)))\n",
    "            if is_prime_number(candidate):\n",
    "                answer.append(candidate)\n",
    "                \n",
    "    return len(set(answer))\n",
    "\n",
    "print(solution(\"17\"))\n",
    "print(solution(\"011\"))"
   ]
  }
 ],
 "metadata": {
  "kernelspec": {
   "display_name": "Python 3",
   "language": "python",
   "name": "python3"
  },
  "language_info": {
   "codemirror_mode": {
    "name": "ipython",
    "version": 3
   },
   "file_extension": ".py",
   "mimetype": "text/x-python",
   "name": "python",
   "nbconvert_exporter": "python",
   "pygments_lexer": "ipython3",
   "version": "3.8.5"
  }
 },
 "nbformat": 4,
 "nbformat_minor": 4
}
