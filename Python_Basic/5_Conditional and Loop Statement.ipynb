{
 "cells": [
  {
   "cell_type": "markdown",
   "metadata": {},
   "source": [
    "# 조건문"
   ]
  },
  {
   "cell_type": "code",
   "execution_count": 7,
   "metadata": {},
   "outputs": [
    {
     "name": "stdout",
     "output_type": "stream",
     "text": [
      "true\n"
     ]
    }
   ],
   "source": [
    "money = \"hi\"\n",
    "if money:\n",
    "    print(\"true\")\n",
    "else:\n",
    "    print(\"flase\")   # 0이나 None이 아니면 전부 True"
   ]
  },
  {
   "cell_type": "code",
   "execution_count": 17,
   "metadata": {},
   "outputs": [
    {
     "name": "stdout",
     "output_type": "stream",
     "text": [
      "True\n",
      "In the pocket~~\n",
      "Yes\n"
     ]
    }
   ],
   "source": [
    "print(1 in [1,2,3])        # 이것도 조건문이다\n",
    "\n",
    "# in은 문자열에서 사용 가능\n",
    "if 'money' in \"where is my money\":\n",
    "    print(\"In the pocket~~\")\n",
    "    \n",
    "    \n",
    "# in은 list에서 사용 가능\n",
    "pocket = ['paper', 'money', 'cellphone']\n",
    "\n",
    "if 'money' in pocket:\n",
    "    print(\"Yes\")\n",
    "else:\n",
    "    pass"
   ]
  },
  {
   "cell_type": "code",
   "execution_count": 9,
   "metadata": {},
   "outputs": [
    {
     "data": {
      "text/plain": [
       "False"
      ]
     },
     "execution_count": 9,
     "metadata": {},
     "output_type": "execute_result"
    }
   ],
   "source": [
    "1 not in [1,2,3]"
   ]
  },
  {
   "cell_type": "markdown",
   "metadata": {},
   "source": [
    "## if문 한줄로 작성하기"
   ]
  },
  {
   "cell_type": "code",
   "execution_count": 19,
   "metadata": {},
   "outputs": [
    {
     "name": "stdout",
     "output_type": "stream",
     "text": [
      "카드를 꺼내시오\n",
      "카드를 꺼내시오\n"
     ]
    }
   ],
   "source": [
    "if 'money111' in pocket:\n",
    "    pass\n",
    "else:\n",
    "    print('카드를 꺼내시오')\n",
    "    \n",
    "\n",
    "if 'money111' in pocket: pass\n",
    "else: print('카드를 꺼내시오')"
   ]
  },
  {
   "cell_type": "markdown",
   "metadata": {},
   "source": [
    "---\n",
    "---"
   ]
  },
  {
   "cell_type": "markdown",
   "metadata": {},
   "source": [
    "# while 문"
   ]
  },
  {
   "cell_type": "code",
   "execution_count": 18,
   "metadata": {},
   "outputs": [
    {
     "name": "stdout",
     "output_type": "stream",
     "text": [
      "남은 커피 : 10잔.\n",
      "돈을 입력하시오(커피값 300원, 멈추고 돈을 반환하려면 0입력) : 20\n",
      "-> 300원이 될 때까지 돈을 넣으세요. 현재 잔액 : 20\n",
      "\n",
      "돈을 입력하시오(커피값 300원, 멈추고 돈을 반환하려면 0입력) : 50\n",
      "-> 300원이 될 때까지 돈을 넣으세요. 현재 잔액 : 70\n",
      "\n",
      "돈을 입력하시오(커피값 300원, 멈추고 돈을 반환하려면 0입력) : 240\n",
      "-> 남은 커피 : 9잔. 현재 잔액 : 10\n",
      "\n",
      "돈을 입력하시오(커피값 300원, 멈추고 돈을 반환하려면 0입력) : 300\n",
      "-> 남은 커피 : 8잔. 현재 잔액 : 10\n",
      "\n",
      "돈을 입력하시오(커피값 300원, 멈추고 돈을 반환하려면 0입력) : 0\n",
      "10원을 반환합니다.\n"
     ]
    }
   ],
   "source": [
    "# 커피 자판기 프로그램\n",
    "\n",
    "coffee = 10\n",
    "money = 0\n",
    "total = 0\n",
    "\n",
    "print(\"남은 커피 : %d잔.\"%(coffee))\n",
    "    \n",
    "while True:\n",
    "    money = int(input(\"돈을 입력하시오(커피값 300원, 멈추고 돈을 반환하려면 0입력) : \"))\n",
    "    total += money\n",
    "    \n",
    "    \n",
    "    if money == 0:        \n",
    "        print(\"%d원을 반환합니다.\"%total)\n",
    "        break\n",
    "        \n",
    "    if total < 300:       print(\"-> 300원이 될 때까지 돈을 넣으세요. 현재 잔액 : %d\\n\" % total)\n",
    "        \n",
    "    elif total >= 300:\n",
    "        total -= 300\n",
    "        \n",
    "        if coffee > 0:\n",
    "            coffee -= 1\n",
    "            print(\"-> 남은 커피 : %d잔. 현재 잔액 : %d\\n\"%(coffee, total))\n",
    "        else:\n",
    "            print(\"-> 커피없음.- 판매 중지\\n\")\n",
    "            break"
   ]
  },
  {
   "cell_type": "markdown",
   "metadata": {},
   "source": [
    "---\n",
    "---"
   ]
  },
  {
   "cell_type": "markdown",
   "metadata": {},
   "source": [
    "# For문"
   ]
  },
  {
   "cell_type": "code",
   "execution_count": 20,
   "metadata": {},
   "outputs": [
    {
     "name": "stdout",
     "output_type": "stream",
     "text": [
      "3\n",
      "7\n",
      "11\n"
     ]
    }
   ],
   "source": [
    "# 튜플 활용\n",
    "a = [(1,2),(3,4),(5,6)]\n",
    "\n",
    "for (i,j) in a:\n",
    "    print(i+j)"
   ]
  },
  {
   "cell_type": "markdown",
   "metadata": {},
   "source": [
    "### for x in range(i, j)는 \"i  <=  x  <  j\" 임을 기억하자"
   ]
  },
  {
   "cell_type": "code",
   "execution_count": 30,
   "metadata": {
    "scrolled": true
   },
   "outputs": [
    {
     "name": "stdout",
     "output_type": "stream",
     "text": [
      "2  *  1  =  2\n",
      "2  *  2  =  4\n",
      "2  *  3  =  6\n",
      "2  *  4  =  8\n",
      "2  *  5  =  10\n",
      "2  *  6  =  12\n",
      "2  *  7  =  14\n",
      "2  *  8  =  16\n",
      "2  *  9  =  18\n",
      "3  *  1  =  3\n",
      "3  *  2  =  6\n",
      "3  *  3  =  9\n",
      "3  *  4  =  12\n",
      "3  *  5  =  15\n",
      "3  *  6  =  18\n",
      "3  *  7  =  21\n",
      "3  *  8  =  24\n",
      "3  *  9  =  27\n",
      "4  *  1  =  4\n",
      "4  *  2  =  8\n",
      "4  *  3  =  12\n",
      "4  *  4  =  16\n",
      "4  *  5  =  20\n",
      "4  *  6  =  24\n",
      "4  *  7  =  28\n",
      "4  *  8  =  32\n",
      "4  *  9  =  36\n",
      "5  *  1  =  5\n",
      "5  *  2  =  10\n",
      "5  *  3  =  15\n",
      "5  *  4  =  20\n",
      "5  *  5  =  25\n",
      "5  *  6  =  30\n",
      "5  *  7  =  35\n",
      "5  *  8  =  40\n",
      "5  *  9  =  45\n",
      "6  *  1  =  6\n",
      "6  *  2  =  12\n",
      "6  *  3  =  18\n",
      "6  *  4  =  24\n",
      "6  *  5  =  30\n",
      "6  *  6  =  36\n",
      "6  *  7  =  42\n",
      "6  *  8  =  48\n",
      "6  *  9  =  54\n",
      "7  *  1  =  7\n",
      "7  *  2  =  14\n",
      "7  *  3  =  21\n",
      "7  *  4  =  28\n",
      "7  *  5  =  35\n",
      "7  *  6  =  42\n",
      "7  *  7  =  49\n",
      "7  *  8  =  56\n",
      "7  *  9  =  63\n",
      "8  *  1  =  8\n",
      "8  *  2  =  16\n",
      "8  *  3  =  24\n",
      "8  *  4  =  32\n",
      "8  *  5  =  40\n",
      "8  *  6  =  48\n",
      "8  *  7  =  56\n",
      "8  *  8  =  64\n",
      "8  *  9  =  72\n",
      "9  *  1  =  9\n",
      "9  *  2  =  18\n",
      "9  *  3  =  27\n",
      "9  *  4  =  36\n",
      "9  *  5  =  45\n",
      "9  *  6  =  54\n",
      "9  *  7  =  63\n",
      "9  *  8  =  72\n",
      "9  *  9  =  81\n"
     ]
    }
   ],
   "source": [
    "# 단 3줄만으로 구구단(1단~9단)을 출력해보자\n",
    "\n",
    "for i in range(2, 10):\n",
    "    for j in range(1, 10):\n",
    "        print(i, \" * \", j, \" = \", i*j)\n"
   ]
  },
  {
   "cell_type": "markdown",
   "metadata": {},
   "source": [
    "## for문 한줄로 만들기 연습\n",
    "* if-else문 내포하기\n",
    "* for문 2개이상 넣기 등"
   ]
  },
  {
   "cell_type": "code",
   "execution_count": 22,
   "metadata": {},
   "outputs": [
    {
     "name": "stdout",
     "output_type": "stream",
     "text": [
      "[3, 6, 9, 12]\n"
     ]
    }
   ],
   "source": [
    "a = [1,2,3,4]\n",
    "result = []\n",
    "for num in a:\n",
    "    result.append(num*3)\n",
    "    \n",
    "print(result)"
   ]
  },
  {
   "cell_type": "code",
   "execution_count": 26,
   "metadata": {},
   "outputs": [
    {
     "name": "stdout",
     "output_type": "stream",
     "text": [
      "[3, 6, 9, 12]\n"
     ]
    }
   ],
   "source": [
    "result2 = [num*3 for num in a]\n",
    "print(result2)"
   ]
  },
  {
   "cell_type": "code",
   "execution_count": 28,
   "metadata": {},
   "outputs": [
    {
     "name": "stdout",
     "output_type": "stream",
     "text": [
      "[6, 12]\n"
     ]
    }
   ],
   "source": [
    "# (중요) 위 예제에서 짝수에만 3을 곱하는 것으로 바꿔보자\n",
    "\n",
    "result3 = [num*3 for num in a if num % 2 == 0]\n",
    "print(result3)"
   ]
  },
  {
   "cell_type": "code",
   "execution_count": 34,
   "metadata": {},
   "outputs": [
    {
     "name": "stdout",
     "output_type": "stream",
     "text": [
      "[1, 6, 3, 12]\n"
     ]
    }
   ],
   "source": [
    "# (중요) 위 예제에서 짝수에만 3을 곱하는 것으로 바꿔보자 (중요)\n",
    "\n",
    "result4 = [num*3 if num % 2 == 0 else num for num in a ]\n",
    "print(result4)"
   ]
  },
  {
   "cell_type": "code",
   "execution_count": 31,
   "metadata": {},
   "outputs": [
    {
     "name": "stdout",
     "output_type": "stream",
     "text": [
      "[2, 4, 6, 8, 10, 12, 14, 16, 18, 3, 6, 9, 12, 15, 18, 21, 24, 27, 4, 8, 12, 16, 20, 24, 28, 32, 36, 5, 10, 15, 20, 25, 30, 35, 40, 45, 6, 12, 18, 24, 30, 36, 42, 48, 54, 7, 14, 21, 28, 35, 42, 49, 56, 63, 8, 16, 24, 32, 40, 48, 56, 64, 72, 9, 18, 27, 36, 45, 54, 63, 72, 81]\n"
     ]
    }
   ],
   "source": [
    "# 구구단 결과만 한줄(=두줄)로 만들어 출력하기\n",
    "\n",
    "gugu = [i*j for i in range(2,10) for j in range(1,10)]\n",
    "print(gugu)"
   ]
  },
  {
   "cell_type": "code",
   "execution_count": null,
   "metadata": {},
   "outputs": [],
   "source": []
  },
  {
   "cell_type": "code",
   "execution_count": null,
   "metadata": {},
   "outputs": [],
   "source": []
  },
  {
   "cell_type": "code",
   "execution_count": null,
   "metadata": {},
   "outputs": [],
   "source": []
  }
 ],
 "metadata": {
  "kernelspec": {
   "display_name": "Python 3",
   "language": "python",
   "name": "python3"
  },
  "language_info": {
   "codemirror_mode": {
    "name": "ipython",
    "version": 3
   },
   "file_extension": ".py",
   "mimetype": "text/x-python",
   "name": "python",
   "nbconvert_exporter": "python",
   "pygments_lexer": "ipython3",
   "version": "3.8.5"
  }
 },
 "nbformat": 4,
 "nbformat_minor": 4
}
