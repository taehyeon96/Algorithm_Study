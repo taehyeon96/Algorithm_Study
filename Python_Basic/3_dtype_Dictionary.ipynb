{
 "cells": [
  {
   "cell_type": "markdown",
   "metadata": {},
   "source": [
    "# Dictionary\n",
    "* key, value로 구성되어\n",
    "* key를 통해 value를 얻고자 할 때 주로 사용"
   ]
  },
  {
   "cell_type": "code",
   "execution_count": 4,
   "metadata": {},
   "outputs": [
    {
     "name": "stdout",
     "output_type": "stream",
     "text": [
      "{1: 'a'}\n",
      "{1: 'a', 2: 'b'}\n",
      "{1: 'a', 2: 'b', 'name': 'tae'}\n",
      "{1: 'a', 2: 'b', 'name': 'tae', 3: 'd'}\n",
      "{1: 'a', 2: 'b', 'name': 'tae', 3: 'd', 4: [1, 2, 3]}\n",
      "{1: 'a', 2: 'b', 'name': 'tae', 4: [1, 2, 3]}\n"
     ]
    }
   ],
   "source": [
    "# 딕셔너리에 쌍 추가\n",
    "\n",
    "di = {1:'a'}\n",
    "print(di)\n",
    "\n",
    "di[2] = 'b'                  # value를 입력하여 추가\n",
    "print(di)\n",
    "\n",
    "di['name'] = 'tae'           # key,value 쌍으로 입력하여 추가\n",
    "print(di)\n",
    "\n",
    "di[3] = 'd'\n",
    "print(di)\n",
    "\n",
    "di[4] = [1,2,3]              # value값으로 list 자료형도 들어갈 수 있다\n",
    "print(di)\n",
    "\n",
    "del di[3]                    # (중요) key값을 기준으로 삭제(-> 나머지 key,value 그대로)\n",
    "print(di)"
   ]
  },
  {
   "cell_type": "code",
   "execution_count": 10,
   "metadata": {},
   "outputs": [
    {
     "name": "stdout",
     "output_type": "stream",
     "text": [
      "{1: 'a', 2: 'b', 'name': 'tae', 4: [1, 2, 3]}\n",
      "b\n",
      "tae\n"
     ]
    }
   ],
   "source": [
    "# (중요) 딕셔너리 활용\n",
    "print(di)\n",
    "\n",
    "print(di[2])          # (중요) 인덱스가 2인 것이 아닌, key값이 2인 것의 value값을 가져옴\n",
    "\n",
    "print(di['name'])     # (중요) 마찬가지로 key값이 'name'인 것의 value값을 가져옴"
   ]
  },
  {
   "cell_type": "markdown",
   "metadata": {},
   "source": [
    "## 딕셔너리 주의점\n",
    "* key값을 중복하여 사용하면 중복된 것 중 하나는 무시됨\n",
    "* key값으로 list 자료형은 사용 불가!"
   ]
  },
  {
   "cell_type": "code",
   "execution_count": 2,
   "metadata": {},
   "outputs": [
    {
     "name": "stdout",
     "output_type": "stream",
     "text": [
      "{1: 'b'}\n"
     ]
    }
   ],
   "source": [
    "a = {1:'a', 1:'b'}\n",
    "\n",
    "print(a)"
   ]
  },
  {
   "cell_type": "code",
   "execution_count": 13,
   "metadata": {
    "scrolled": true
   },
   "outputs": [
    {
     "data": {
      "text/plain": [
       "['__class__',\n",
       " '__contains__',\n",
       " '__delattr__',\n",
       " '__delitem__',\n",
       " '__dir__',\n",
       " '__doc__',\n",
       " '__eq__',\n",
       " '__format__',\n",
       " '__ge__',\n",
       " '__getattribute__',\n",
       " '__getitem__',\n",
       " '__gt__',\n",
       " '__hash__',\n",
       " '__init__',\n",
       " '__init_subclass__',\n",
       " '__iter__',\n",
       " '__le__',\n",
       " '__len__',\n",
       " '__lt__',\n",
       " '__ne__',\n",
       " '__new__',\n",
       " '__reduce__',\n",
       " '__reduce_ex__',\n",
       " '__repr__',\n",
       " '__reversed__',\n",
       " '__setattr__',\n",
       " '__setitem__',\n",
       " '__sizeof__',\n",
       " '__str__',\n",
       " '__subclasshook__',\n",
       " 'clear',\n",
       " 'copy',\n",
       " 'fromkeys',\n",
       " 'get',\n",
       " 'items',\n",
       " 'keys',\n",
       " 'pop',\n",
       " 'popitem',\n",
       " 'setdefault',\n",
       " 'update',\n",
       " 'values']"
      ]
     },
     "execution_count": 13,
     "metadata": {},
     "output_type": "execute_result"
    }
   ],
   "source": [
    "dir(dict)"
   ]
  },
  {
   "cell_type": "code",
   "execution_count": 9,
   "metadata": {},
   "outputs": [
    {
     "name": "stdout",
     "output_type": "stream",
     "text": [
      "dict_keys([1, 'name', 4])\n",
      "[1, 'name', 4]\n"
     ]
    }
   ],
   "source": [
    "# key값들만 추출하기\n",
    "print(di.keys())\n",
    "\n",
    "# key값들을 list로 추출하기\n",
    "abc = list(di.keys())\n",
    "\n",
    "print(abc)"
   ]
  },
  {
   "cell_type": "code",
   "execution_count": 10,
   "metadata": {},
   "outputs": [
    {
     "name": "stdout",
     "output_type": "stream",
     "text": [
      "dict_values(['a', 'tae', [1, 2, 3]])\n",
      "['a', 'tae', [1, 2, 3]]\n"
     ]
    }
   ],
   "source": [
    "# value값들만 추출하기\n",
    "print(di.values())\n",
    "\n",
    "# value값들을 list로 추출하기\n",
    "abc = list(di.values())\n",
    "\n",
    "print(abc)"
   ]
  },
  {
   "cell_type": "code",
   "execution_count": 13,
   "metadata": {},
   "outputs": [
    {
     "name": "stdout",
     "output_type": "stream",
     "text": [
      "dict_items([(1, 'a'), ('name', 'tae'), (4, [1, 2, 3])]) \n",
      "\n",
      "{1: 'a', 'name': 'tae', 4: [1, 2, 3]} \n",
      "\n",
      "[(1, 'a'), ('name', 'tae'), (4, [1, 2, 3])] \n",
      "\n"
     ]
    }
   ],
   "source": [
    "# 쌍으로 추출하기\n",
    "print(di.items(),\"\\n\")\n",
    "\n",
    "print(di,\"\\n\")\n",
    "\n",
    "# key값들을 list로 추출하기\n",
    "abc = list(di.items())\n",
    "\n",
    "print(abc,\"\\n\")"
   ]
  },
  {
   "cell_type": "code",
   "execution_count": 8,
   "metadata": {},
   "outputs": [
    {
     "name": "stdout",
     "output_type": "stream",
     "text": [
      "{1: 'a', 'name': 'tae', 4: [1, 2, 3]}\n",
      "b\n"
     ]
    }
   ],
   "source": [
    "# dictionary도 pop이 가능!\n",
    "\n",
    "didi = di.pop(2)\n",
    "\n",
    "print(di)\n",
    "print(didi)"
   ]
  },
  {
   "cell_type": "markdown",
   "metadata": {},
   "source": [
    "## in 사용 가능"
   ]
  },
  {
   "cell_type": "code",
   "execution_count": 14,
   "metadata": {},
   "outputs": [
    {
     "data": {
      "text/plain": [
       "True"
      ]
     },
     "execution_count": 14,
     "metadata": {},
     "output_type": "execute_result"
    }
   ],
   "source": [
    "'name' in di"
   ]
  },
  {
   "cell_type": "code",
   "execution_count": 15,
   "metadata": {},
   "outputs": [
    {
     "data": {
      "text/plain": [
       "False"
      ]
     },
     "execution_count": 15,
     "metadata": {},
     "output_type": "execute_result"
    }
   ],
   "source": [
    "10 in di"
   ]
  },
  {
   "cell_type": "code",
   "execution_count": null,
   "metadata": {},
   "outputs": [],
   "source": []
  },
  {
   "cell_type": "code",
   "execution_count": null,
   "metadata": {},
   "outputs": [],
   "source": []
  }
 ],
 "metadata": {
  "kernelspec": {
   "display_name": "Python 3",
   "language": "python",
   "name": "python3"
  },
  "language_info": {
   "codemirror_mode": {
    "name": "ipython",
    "version": 3
   },
   "file_extension": ".py",
   "mimetype": "text/x-python",
   "name": "python",
   "nbconvert_exporter": "python",
   "pygments_lexer": "ipython3",
   "version": "3.8.5"
  }
 },
 "nbformat": 4,
 "nbformat_minor": 4
}
