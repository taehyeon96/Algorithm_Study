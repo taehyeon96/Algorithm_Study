{
 "cells": [
  {
   "cell_type": "markdown",
   "metadata": {},
   "source": [
    "# <List 자료형>"
   ]
  },
  {
   "cell_type": "code",
   "execution_count": 6,
   "metadata": {},
   "outputs": [
    {
     "name": "stdout",
     "output_type": "stream",
     "text": [
      "Life\n"
     ]
    }
   ],
   "source": [
    "a = [1, 2, ['a', 'b', ['Life', 'is']]]\n",
    "\n",
    "print(a[2][2][0])"
   ]
  },
  {
   "cell_type": "code",
   "execution_count": 9,
   "metadata": {},
   "outputs": [
    {
     "name": "stdout",
     "output_type": "stream",
     "text": [
      "[3, ['a', 'b', 'c'], 4]\n",
      "['a', 'b']\n"
     ]
    }
   ],
   "source": [
    "a = [1,2,3,['a','b','c'],4,5]\n",
    "\n",
    "print(a[2:5])\n",
    "print(a[3][:2])"
   ]
  },
  {
   "cell_type": "code",
   "execution_count": 10,
   "metadata": {},
   "outputs": [
    {
     "data": {
      "text/plain": [
       "[1, 2, 3, 4, 5, 6]"
      ]
     },
     "execution_count": 10,
     "metadata": {},
     "output_type": "execute_result"
    }
   ],
   "source": [
    "# 리스트 더하기(+)\n",
    "a = [1,2,3]\n",
    "b = [4,5,6]\n",
    "\n",
    "a+b"
   ]
  },
  {
   "cell_type": "code",
   "execution_count": 14,
   "metadata": {},
   "outputs": [
    {
     "data": {
      "text/plain": [
       "[1, 2, 3, 1, 2, 3, 1, 2, 3]"
      ]
     },
     "execution_count": 14,
     "metadata": {},
     "output_type": "execute_result"
    }
   ],
   "source": [
    "# 리스트 반복하기(*)\n",
    "a = [1,2,3]\n",
    "b = 3\n",
    "\n",
    "a*b"
   ]
  },
  {
   "cell_type": "code",
   "execution_count": 20,
   "metadata": {},
   "outputs": [
    {
     "name": "stdout",
     "output_type": "stream",
     "text": [
      "hi hi \n",
      "hi hi hi hi \n",
      "hi hi hi hi hi hi hi hi \n"
     ]
    }
   ],
   "source": [
    "# 리스트 반복하기 활용\n",
    "a = [2,4,8]\n",
    "b = \"hi \"\n",
    "\n",
    "for i in a:    print(b*i)"
   ]
  },
  {
   "cell_type": "code",
   "execution_count": 23,
   "metadata": {},
   "outputs": [
    {
     "name": "stdout",
     "output_type": "stream",
     "text": [
      "[1, ['a', 'b', 'c'], 3]\n",
      "[1, 'a', 'b', 'c', 3]\n"
     ]
    }
   ],
   "source": [
    "# (중요) 리스트 수정 시 주의점\n",
    "\n",
    "a = [1,2,3]\n",
    "a[1] = ['a','b','c']        # [1]에 리스트를 넣는다\n",
    "print(a)\n",
    "\n",
    "b = [1,2,3]\n",
    "b[1:2] = ['a','b','c']      # [1] <= 이 자리에 입력 < [2]\n",
    "print(b)"
   ]
  },
  {
   "cell_type": "markdown",
   "metadata": {},
   "source": [
    "## 리스트 원소 삭제"
   ]
  },
  {
   "cell_type": "code",
   "execution_count": 39,
   "metadata": {},
   "outputs": [
    {
     "name": "stdout",
     "output_type": "stream",
     "text": [
      "[1, 'c', 3]\n"
     ]
    }
   ],
   "source": [
    "# (중요) 리스트 내의 원소 삭제 1\n",
    "\n",
    "b = [1,2,3]\n",
    "b[1:2] = ['a','b','c']\n",
    "\n",
    "b[1:3]=[]\n",
    "\n",
    "print(b)"
   ]
  },
  {
   "cell_type": "code",
   "execution_count": 40,
   "metadata": {},
   "outputs": [
    {
     "name": "stdout",
     "output_type": "stream",
     "text": [
      "[1, 'c', 3]\n"
     ]
    }
   ],
   "source": [
    "# (중요) 리스트 내의 원소 삭제 2\n",
    "\n",
    "b = [1,2,3]\n",
    "b[1:2] = ['a','b','c']\n",
    "\n",
    "del b[1:3]\n",
    "\n",
    "print(b)"
   ]
  },
  {
   "cell_type": "code",
   "execution_count": 53,
   "metadata": {},
   "outputs": [
    {
     "name": "stdout",
     "output_type": "stream",
     "text": [
      "[1, 'a', 'b', 'c', 3, 1, 1, 1]\n",
      "['a', 'c', 3, 1, 1, 1]\n",
      "['a', 'c', 3, 1, 1]\n"
     ]
    }
   ],
   "source": [
    "# (중요) 리스트 내의 원소 삭제 3 - 원하는 원소 하나를 삭제(첫 번째 나오는)\n",
    "\n",
    "b = [1,2,3,1,1,1]\n",
    "b[1:2] = ['a','b','c']\n",
    "print(b)\n",
    "\n",
    "b.remove('b') \n",
    "b.remove(1)\n",
    "print(b)\n",
    "\n",
    "b.remove(1)\n",
    "print(b)"
   ]
  },
  {
   "cell_type": "code",
   "execution_count": 28,
   "metadata": {
    "scrolled": true
   },
   "outputs": [
    {
     "data": {
      "text/plain": [
       "['__add__',\n",
       " '__class__',\n",
       " '__contains__',\n",
       " '__delattr__',\n",
       " '__delitem__',\n",
       " '__dir__',\n",
       " '__doc__',\n",
       " '__eq__',\n",
       " '__format__',\n",
       " '__ge__',\n",
       " '__getattribute__',\n",
       " '__getitem__',\n",
       " '__gt__',\n",
       " '__hash__',\n",
       " '__iadd__',\n",
       " '__imul__',\n",
       " '__init__',\n",
       " '__init_subclass__',\n",
       " '__iter__',\n",
       " '__le__',\n",
       " '__len__',\n",
       " '__lt__',\n",
       " '__mul__',\n",
       " '__ne__',\n",
       " '__new__',\n",
       " '__reduce__',\n",
       " '__reduce_ex__',\n",
       " '__repr__',\n",
       " '__reversed__',\n",
       " '__rmul__',\n",
       " '__setattr__',\n",
       " '__setitem__',\n",
       " '__sizeof__',\n",
       " '__str__',\n",
       " '__subclasshook__',\n",
       " 'append',\n",
       " 'clear',\n",
       " 'copy',\n",
       " 'count',\n",
       " 'extend',\n",
       " 'index',\n",
       " 'insert',\n",
       " 'pop',\n",
       " 'remove',\n",
       " 'reverse',\n",
       " 'sort']"
      ]
     },
     "execution_count": 28,
     "metadata": {},
     "output_type": "execute_result"
    }
   ],
   "source": [
    "dir(list)"
   ]
  },
  {
   "cell_type": "code",
   "execution_count": 30,
   "metadata": {},
   "outputs": [
    {
     "name": "stdout",
     "output_type": "stream",
     "text": [
      "[2, 4, 1, 5, 6, 3]\n",
      "[1, 2, 3, 4, 5, 6]\n"
     ]
    }
   ],
   "source": [
    "# 정렬 함수\n",
    "a = [2,4,1,5,6,3]\n",
    "print(a)\n",
    "\n",
    "a.sort()       # <-- 직접 구현한 정렬 알고리즘보다 속도가 훨씬 빠르다!\n",
    "print(a)       "
   ]
  },
  {
   "cell_type": "markdown",
   "metadata": {},
   "source": [
    "## 리스트 중간에 데이터 삽입(=/=append())"
   ]
  },
  {
   "cell_type": "code",
   "execution_count": 34,
   "metadata": {},
   "outputs": [
    {
     "name": "stdout",
     "output_type": "stream",
     "text": [
      "[1, 2, 4, 5, 6]\n",
      "[1, 2, 3, 4, 5, 6]\n"
     ]
    }
   ],
   "source": [
    "\n",
    "a = [2,1,4,5,6]\n",
    "a.sort()\n",
    "print(a)\n",
    "\n",
    "a.insert(2, 3)\n",
    "print(a)\n"
   ]
  },
  {
   "cell_type": "markdown",
   "metadata": {},
   "source": [
    "## 리스트 합체"
   ]
  },
  {
   "cell_type": "code",
   "execution_count": 56,
   "metadata": {},
   "outputs": [
    {
     "name": "stdout",
     "output_type": "stream",
     "text": [
      "[1, 2, 3, 4, 5, 6, 7, 8, 9]\n"
     ]
    }
   ],
   "source": [
    "a = [1, 2, 3, 4, 5, 6]\n",
    "b = [7,8,9]\n",
    "\n",
    "a.extend(b)\n",
    "\n",
    "print(a)"
   ]
  },
  {
   "cell_type": "markdown",
   "metadata": {},
   "source": [
    "## 리스트 pop - LIFO(스택)"
   ]
  },
  {
   "cell_type": "code",
   "execution_count": 54,
   "metadata": {},
   "outputs": [
    {
     "name": "stdout",
     "output_type": "stream",
     "text": [
      "[1, 2, 4, 5, 6]\n",
      "[1, 2, 4, 5]\n",
      "6\n"
     ]
    }
   ],
   "source": [
    "# 가장 뒤에 있는 원소를 POP\n",
    "a = [2,1,4,5,6]\n",
    "a.sort()\n",
    "print(a)\n",
    "\n",
    "b = a.pop()\n",
    "\n",
    "print(a)\n",
    "print(b)"
   ]
  },
  {
   "cell_type": "code",
   "execution_count": 55,
   "metadata": {},
   "outputs": [
    {
     "name": "stdout",
     "output_type": "stream",
     "text": [
      "[1, 2, 4, 5, 6]\n",
      "[1, 2, 5, 6]\n",
      "4\n"
     ]
    }
   ],
   "source": [
    "# 원하는 위치(인덱스)의 원소를 POP\n",
    "a = [2,1,4,5,6]\n",
    "a.sort()\n",
    "print(a)\n",
    "\n",
    "b = a.pop(2)\n",
    "\n",
    "print(a)\n",
    "print(b)"
   ]
  },
  {
   "cell_type": "markdown",
   "metadata": {},
   "source": [
    "## (중요) List의 복사"
   ]
  },
  {
   "cell_type": "code",
   "execution_count": 1,
   "metadata": {},
   "outputs": [
    {
     "name": "stdout",
     "output_type": "stream",
     "text": [
      "[1, 2, 3] \n",
      "\n",
      "[1, 2, 3] \n",
      "\n",
      "[1, 4, 3] \n",
      "\n",
      "[1, 4, 3] \n",
      "\n"
     ]
    }
   ],
   "source": [
    "# List의 주의사항\n",
    "\n",
    "a = [1,2,3]\n",
    "print(a, \"\\n\")\n",
    "\n",
    "b = a                 # List를 복사하였다\n",
    "print(b, \"\\n\")\n",
    "\n",
    "a[1] = 4\n",
    "print(a, \"\\n\")\n",
    "\n",
    "print(b, \"\\n\")        # (중요) a[1]를 바꿨을 뿐인데 b까지 바꼈다\n",
    "                      #  => b와 a가 Memory의 같은 리스트를 가리키기 때문!\n"
   ]
  },
  {
   "cell_type": "code",
   "execution_count": 3,
   "metadata": {},
   "outputs": [
    {
     "name": "stdout",
     "output_type": "stream",
     "text": [
      "[1, 2, 3] \n",
      "\n",
      "[1, 2, 3] \n",
      "\n",
      "[1, 4, 3] \n",
      "\n",
      "[1, 2, 3] \n",
      "\n"
     ]
    }
   ],
   "source": [
    "# 방법 1\n",
    "\n",
    "a = [1,2,3]\n",
    "print(a, \"\\n\")\n",
    "\n",
    "b = a[:]                 # (중요)List를 복사하였다\n",
    "print(b, \"\\n\")\n",
    "\n",
    "a[1] = 4\n",
    "print(a, \"\\n\")\n",
    "\n",
    "print(b, \"\\n\")           # (중요) b는 바뀌지 않았다"
   ]
  },
  {
   "cell_type": "code",
   "execution_count": 5,
   "metadata": {},
   "outputs": [
    {
     "name": "stdout",
     "output_type": "stream",
     "text": [
      "[1, 2, 3] \n",
      "\n",
      "[1, 2, 3] \n",
      "\n"
     ]
    }
   ],
   "source": [
    "# 방법 2\n",
    "\n",
    "from copy import copy\n",
    "\n",
    "a = [1,2,3]\n",
    "b = copy(a)\n",
    "\n",
    "print(a, \"\\n\")\n",
    "print(b, \"\\n\")"
   ]
  }
 ],
 "metadata": {
  "kernelspec": {
   "display_name": "Python 3",
   "language": "python",
   "name": "python3"
  },
  "language_info": {
   "codemirror_mode": {
    "name": "ipython",
    "version": 3
   },
   "file_extension": ".py",
   "mimetype": "text/x-python",
   "name": "python",
   "nbconvert_exporter": "python",
   "pygments_lexer": "ipython3",
   "version": "3.8.5"
  }
 },
 "nbformat": 4,
 "nbformat_minor": 4
}
