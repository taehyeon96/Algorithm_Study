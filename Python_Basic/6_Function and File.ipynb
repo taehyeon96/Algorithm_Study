{
 "cells": [
  {
   "cell_type": "markdown",
   "metadata": {},
   "source": [
    "# Funtion"
   ]
  },
  {
   "cell_type": "code",
   "execution_count": 5,
   "metadata": {},
   "outputs": [
    {
     "name": "stdout",
     "output_type": "stream",
     "text": [
      "15\n",
      "55\n"
     ]
    }
   ],
   "source": [
    "# (중요) 알아둘 사항 - 함수 파라미터 몇 개가 될지 모를 때\n",
    "\n",
    "def sum_many(*aa):\n",
    "    suma = 0\n",
    "    for i in aa:\n",
    "        suma += i\n",
    "    return suma\n",
    "\n",
    "print(sum_many(1,2,3,4,5))\n",
    "print(sum_many(1,2,3,4,5,6,7,8,9,10))"
   ]
  },
  {
   "cell_type": "code",
   "execution_count": 9,
   "metadata": {},
   "outputs": [
    {
     "name": "stdout",
     "output_type": "stream",
     "text": [
      "120\n",
      "3628800\n",
      "15\n",
      "55\n"
     ]
    }
   ],
   "source": [
    "# (중요) 알아둘 사항 - 함수 파라미터 몇 개가 될지 모를 때\n",
    "\n",
    "def sum_mul(param, *aa):   # 이때 아스트릭('*')이 필요한 파라미터가 뒤로가야함!!!\n",
    "    if param==\"*\":\n",
    "        suma = 1\n",
    "        for i in aa:\n",
    "            suma *= i\n",
    "        return suma\n",
    "    \n",
    "    elif param==\"+\":\n",
    "        suma = 0\n",
    "        for i in aa:\n",
    "            suma += i\n",
    "        return suma\n",
    "    \n",
    "print(sum_mul(\"*\", 1,2,3,4,5))\n",
    "print(sum_mul(\"*\", 1,2,3,4,5,6,7,8,9,10))\n",
    "\n",
    "print(sum_mul(\"+\", 1,2,3,4,5))\n",
    "print(sum_mul(\"+\", 1,2,3,4,5,6,7,8,9,10))"
   ]
  },
  {
   "cell_type": "markdown",
   "metadata": {},
   "source": [
    "---\n",
    "---"
   ]
  },
  {
   "cell_type": "markdown",
   "metadata": {},
   "source": [
    "# 사용자 입출력 / 파일 입출력 활용"
   ]
  },
  {
   "cell_type": "code",
   "execution_count": 21,
   "metadata": {},
   "outputs": [
    {
     "name": "stdout",
     "output_type": "stream",
     "text": [
      "문자를 입력하세요가나다라마\n",
      "숫자를 입력하세요33333\n",
      "33333\n",
      "가나다라마\n"
     ]
    }
   ],
   "source": [
    "b = input(\"문자를 입력하세요\")\n",
    "a = int(input(\"숫자를 입력하세요\"))\n",
    "\n",
    "print(a)\n",
    "print(b)"
   ]
  },
  {
   "cell_type": "code",
   "execution_count": 23,
   "metadata": {},
   "outputs": [],
   "source": [
    "# 파일에 쓰기\n",
    "f = open(\"새파일.txt\",\"w\")\n",
    "\n",
    "for i in range(1, 11):\n",
    "    data = \"{0}번째 줄입니다.\\n\".format(i)\n",
    "    f.write(data)\n",
    "\n",
    "f.close()"
   ]
  },
  {
   "cell_type": "code",
   "execution_count": 25,
   "metadata": {},
   "outputs": [
    {
     "name": "stdout",
     "output_type": "stream",
     "text": [
      "1번째 줄입니다.\n",
      "\n"
     ]
    },
    {
     "data": {
      "text/plain": [
       "<function TextIOWrapper.close()>"
      ]
     },
     "execution_count": 25,
     "metadata": {},
     "output_type": "execute_result"
    }
   ],
   "source": [
    "# 파일을 읽어 첫 번째 줄만 출력\n",
    "\n",
    "f = open(\"새파일.txt\", \"r\")\n",
    "\n",
    "print(f.readline())\n",
    "f.close"
   ]
  },
  {
   "cell_type": "code",
   "execution_count": 30,
   "metadata": {
    "scrolled": true
   },
   "outputs": [
    {
     "name": "stdout",
     "output_type": "stream",
     "text": [
      "1번째 줄입니다.\n",
      "\n",
      "2번째 줄입니다.\n",
      "\n",
      "3번째 줄입니다.\n",
      "\n",
      "4번째 줄입니다.\n",
      "\n",
      "5번째 줄입니다.\n",
      "\n",
      "6번째 줄입니다.\n",
      "\n",
      "7번째 줄입니다.\n",
      "\n",
      "8번째 줄입니다.\n",
      "\n",
      "9번째 줄입니다.\n",
      "\n",
      "10번째 줄입니다.\n",
      "\n",
      "\n"
     ]
    },
    {
     "data": {
      "text/plain": [
       "<function TextIOWrapper.close()>"
      ]
     },
     "execution_count": 30,
     "metadata": {},
     "output_type": "execute_result"
    }
   ],
   "source": [
    "# 파일을 읽어 전부 출력 1\n",
    "\n",
    "f = open(\"새파일.txt\", \"r\")\n",
    "\n",
    "while True:\n",
    "    a = f.readline()\n",
    "    print(a)\n",
    "    if not a: break\n",
    "f.close"
   ]
  },
  {
   "cell_type": "code",
   "execution_count": 31,
   "metadata": {
    "scrolled": true
   },
   "outputs": [
    {
     "name": "stdout",
     "output_type": "stream",
     "text": [
      "1번째 줄입니다.\n",
      "\n",
      "2번째 줄입니다.\n",
      "\n",
      "3번째 줄입니다.\n",
      "\n",
      "4번째 줄입니다.\n",
      "\n",
      "5번째 줄입니다.\n",
      "\n",
      "6번째 줄입니다.\n",
      "\n",
      "7번째 줄입니다.\n",
      "\n",
      "8번째 줄입니다.\n",
      "\n",
      "9번째 줄입니다.\n",
      "\n",
      "10번째 줄입니다.\n",
      "\n"
     ]
    },
    {
     "data": {
      "text/plain": [
       "<function TextIOWrapper.close()>"
      ]
     },
     "execution_count": 31,
     "metadata": {},
     "output_type": "execute_result"
    }
   ],
   "source": [
    "# 파일을 읽어 전부 출력 2\n",
    "\n",
    "f = open(\"새파일.txt\", \"r\")\n",
    "\n",
    "a = f.readlines()\n",
    "\n",
    "for i in a:    print(i)\n",
    "f.close"
   ]
  },
  {
   "cell_type": "code",
   "execution_count": 32,
   "metadata": {},
   "outputs": [
    {
     "name": "stdout",
     "output_type": "stream",
     "text": [
      "1번째 줄입니다.\n",
      "2번째 줄입니다.\n",
      "3번째 줄입니다.\n",
      "4번째 줄입니다.\n",
      "5번째 줄입니다.\n",
      "6번째 줄입니다.\n",
      "7번째 줄입니다.\n",
      "8번째 줄입니다.\n",
      "9번째 줄입니다.\n",
      "10번째 줄입니다.\n",
      "\n"
     ]
    },
    {
     "data": {
      "text/plain": [
       "<function TextIOWrapper.close()>"
      ]
     },
     "execution_count": 32,
     "metadata": {},
     "output_type": "execute_result"
    }
   ],
   "source": [
    "# 파일을 읽어 전부 출력 3\n",
    "\n",
    "f = open(\"새파일.txt\", \"r\")\n",
    "\n",
    "a = f.read()\n",
    "\n",
    "print(a)\n",
    "f.close"
   ]
  },
  {
   "cell_type": "markdown",
   "metadata": {},
   "source": [
    "## 파일에 이어서 쓰고싶을 때\n",
    "* \"w\"의 경우, txt파일에 모든 내용을 지우고 새로 입력하는 것\n",
    "* \"a\"를 사용하면 내용을 지우지 않고 그 다음 라인부터 이어서 씀"
   ]
  },
  {
   "cell_type": "code",
   "execution_count": 33,
   "metadata": {},
   "outputs": [],
   "source": [
    "# 파일에 이어서 쓰기\n",
    "f = open(\"새파일.txt\",\"a\")\n",
    "\n",
    "for i in range(11, 21):\n",
    "    data = \"{0}번째 줄입니다.\\n\".format(i)\n",
    "    f.write(data)\n",
    "\n",
    "f.close()"
   ]
  },
  {
   "cell_type": "code",
   "execution_count": 34,
   "metadata": {},
   "outputs": [
    {
     "name": "stdout",
     "output_type": "stream",
     "text": [
      "1번째 줄입니다.\n",
      "2번째 줄입니다.\n",
      "3번째 줄입니다.\n",
      "4번째 줄입니다.\n",
      "5번째 줄입니다.\n",
      "6번째 줄입니다.\n",
      "7번째 줄입니다.\n",
      "8번째 줄입니다.\n",
      "9번째 줄입니다.\n",
      "10번째 줄입니다.\n",
      "11번째 줄입니다.\n",
      "12번째 줄입니다.\n",
      "13번째 줄입니다.\n",
      "14번째 줄입니다.\n",
      "15번째 줄입니다.\n",
      "16번째 줄입니다.\n",
      "17번째 줄입니다.\n",
      "18번째 줄입니다.\n",
      "19번째 줄입니다.\n",
      "20번째 줄입니다.\n",
      "\n"
     ]
    },
    {
     "data": {
      "text/plain": [
       "<function TextIOWrapper.close()>"
      ]
     },
     "execution_count": 34,
     "metadata": {},
     "output_type": "execute_result"
    }
   ],
   "source": [
    "# 파일을 읽어 전부 출력 3\n",
    "\n",
    "f = open(\"새파일.txt\", \"r\")\n",
    "\n",
    "a = f.read()\n",
    "\n",
    "print(a)\n",
    "f.close"
   ]
  },
  {
   "cell_type": "code",
   "execution_count": null,
   "metadata": {},
   "outputs": [],
   "source": []
  }
 ],
 "metadata": {
  "kernelspec": {
   "display_name": "Python 3",
   "language": "python",
   "name": "python3"
  },
  "language_info": {
   "codemirror_mode": {
    "name": "ipython",
    "version": 3
   },
   "file_extension": ".py",
   "mimetype": "text/x-python",
   "name": "python",
   "nbconvert_exporter": "python",
   "pygments_lexer": "ipython3",
   "version": "3.8.5"
  }
 },
 "nbformat": 4,
 "nbformat_minor": 4
}
