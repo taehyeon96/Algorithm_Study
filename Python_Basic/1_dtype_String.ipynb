{
 "cells": [
  {
   "cell_type": "markdown",
   "metadata": {},
   "source": [
    "<<문자열 포매팅 추가>>"
   ]
  },
  {
   "cell_type": "markdown",
   "metadata": {},
   "source": [
    "### 문자열 포매팅 이어서"
   ]
  },
  {
   "cell_type": "markdown",
   "metadata": {},
   "source": [
    "## 포맷 코드와 숫자 함께 사용하기\n"
   ]
  },
  {
   "cell_type": "code",
   "execution_count": 3,
   "metadata": {},
   "outputs": [
    {
     "name": "stdout",
     "output_type": "stream",
     "text": [
      ".        hi\n"
     ]
    }
   ],
   "source": [
    "# <오른쪽 정렬>\n",
    "# 정렬과 공백 - a에 전체 길이가 10개인 문자열 공간에 hi를 오른쪽에 정렬하고 나머지는 공백으로 둔다\n",
    "\n",
    "b = \"hi\"\n",
    "a = \".%10s\" % b\n",
    "\n",
    "print(a)"
   ]
  },
  {
   "cell_type": "code",
   "execution_count": 4,
   "metadata": {},
   "outputs": [
    {
     "name": "stdout",
     "output_type": "stream",
     "text": [
      ".hi         jane\n"
     ]
    }
   ],
   "source": [
    "# <왼쪽 정렬>\n",
    "# 정렬과 공백 - a에 전체 길이가 10개인 문자열 공간에 hi를 왼쪽에 정렬하고 나머지는 공백으로 둔다\n",
    "\n",
    "b = \"hi\"\n",
    "a = \".%-10s jane\" % b\n",
    "\n",
    "print(a)"
   ]
  },
  {
   "cell_type": "code",
   "execution_count": 14,
   "metadata": {},
   "outputs": [
    {
     "name": "stdout",
     "output_type": "stream",
     "text": [
      "~~>3.4213\n"
     ]
    }
   ],
   "source": [
    "# 소수점 표현\n",
    "# -> 소수점 4번째까지만 출력\n",
    "\n",
    "b = 3.42134234\n",
    "a = \"~~>%0.4f\" % b\n",
    "\n",
    "print(a)"
   ]
  },
  {
   "cell_type": "code",
   "execution_count": 13,
   "metadata": {},
   "outputs": [
    {
     "name": "stdout",
     "output_type": "stream",
     "text": [
      "~~>    3.4213\n"
     ]
    }
   ],
   "source": [
    "# 소수점 표현\n",
    "# -> 위에 문자열과 마찬가지로 앞에 공백 10개 넣고(=오른쪽정렬) 소수점 4번째까지만 출력\n",
    "\n",
    "b = 3.42134234\n",
    "a = \"~~>%10.4f\" % b\n",
    "\n",
    "print(a)"
   ]
  },
  {
   "cell_type": "code",
   "execution_count": 16,
   "metadata": {},
   "outputs": [
    {
     "name": "stdout",
     "output_type": "stream",
     "text": [
      "~~>3.4213    <~~\n"
     ]
    }
   ],
   "source": [
    "# 소수점 표현\n",
    "# -> 위에 문자열과 마찬가지로 앞에 공백 10개 넣고(=오른쪽정렬) 소수점 4번째까지만 출력\n",
    "\n",
    "b = 3.42134234\n",
    "a = \"~~>%-10.4f<~~\" % b\n",
    "\n",
    "print(a)"
   ]
  },
  {
   "cell_type": "markdown",
   "metadata": {},
   "source": [
    "## 유용하게 쓰이는 내장함수 찾기"
   ]
  },
  {
   "cell_type": "code",
   "execution_count": 18,
   "metadata": {
    "scrolled": true
   },
   "outputs": [
    {
     "data": {
      "text/plain": [
       "['__add__',\n",
       " '__class__',\n",
       " '__contains__',\n",
       " '__delattr__',\n",
       " '__dir__',\n",
       " '__doc__',\n",
       " '__eq__',\n",
       " '__format__',\n",
       " '__ge__',\n",
       " '__getattribute__',\n",
       " '__getitem__',\n",
       " '__getnewargs__',\n",
       " '__gt__',\n",
       " '__hash__',\n",
       " '__init__',\n",
       " '__init_subclass__',\n",
       " '__iter__',\n",
       " '__le__',\n",
       " '__len__',\n",
       " '__lt__',\n",
       " '__mod__',\n",
       " '__mul__',\n",
       " '__ne__',\n",
       " '__new__',\n",
       " '__reduce__',\n",
       " '__reduce_ex__',\n",
       " '__repr__',\n",
       " '__rmod__',\n",
       " '__rmul__',\n",
       " '__setattr__',\n",
       " '__sizeof__',\n",
       " '__str__',\n",
       " '__subclasshook__',\n",
       " 'capitalize',\n",
       " 'casefold',\n",
       " 'center',\n",
       " 'count',\n",
       " 'encode',\n",
       " 'endswith',\n",
       " 'expandtabs',\n",
       " 'find',\n",
       " 'format',\n",
       " 'format_map',\n",
       " 'index',\n",
       " 'isalnum',\n",
       " 'isalpha',\n",
       " 'isascii',\n",
       " 'isdecimal',\n",
       " 'isdigit',\n",
       " 'isidentifier',\n",
       " 'islower',\n",
       " 'isnumeric',\n",
       " 'isprintable',\n",
       " 'isspace',\n",
       " 'istitle',\n",
       " 'isupper',\n",
       " 'join',\n",
       " 'ljust',\n",
       " 'lower',\n",
       " 'lstrip',\n",
       " 'maketrans',\n",
       " 'partition',\n",
       " 'replace',\n",
       " 'rfind',\n",
       " 'rindex',\n",
       " 'rjust',\n",
       " 'rpartition',\n",
       " 'rsplit',\n",
       " 'rstrip',\n",
       " 'split',\n",
       " 'splitlines',\n",
       " 'startswith',\n",
       " 'strip',\n",
       " 'swapcase',\n",
       " 'title',\n",
       " 'translate',\n",
       " 'upper',\n",
       " 'zfill']"
      ]
     },
     "execution_count": 18,
     "metadata": {},
     "output_type": "execute_result"
    }
   ],
   "source": [
    "dir(str)"
   ]
  },
  {
   "cell_type": "code",
   "execution_count": 32,
   "metadata": {},
   "outputs": [
    {
     "name": "stdout",
     "output_type": "stream",
     "text": [
      ".        hi\n",
      ".        hi\n",
      "        hi\n",
      "hi\n"
     ]
    }
   ],
   "source": [
    "# strip() : 양쪽 공백 지우기  { lstrip(), rstrip() }\n",
    "# 그 주변에 문자열이 하나라도 있으면 지워지지 않음 주의\n",
    "\n",
    "b = \"hi\"\n",
    "a = \".%10s\" % b\n",
    "c = \"%10s\" % b\n",
    "\n",
    "print(a)\n",
    "print(a.strip())\n",
    "print(c)\n",
    "print(c.strip())"
   ]
  },
  {
   "cell_type": "markdown",
   "metadata": {},
   "source": [
    "## format()함수를 활용한 문자열 포매팅"
   ]
  },
  {
   "cell_type": "code",
   "execution_count": 35,
   "metadata": {},
   "outputs": [
    {
     "name": "stdout",
     "output_type": "stream",
     "text": [
      "Hi my name is tae. I'm 10 years old.\n",
      "10 my name is tae. I'm Hi years old.\n"
     ]
    }
   ],
   "source": [
    "# 숫자나 문자 대입하기1 - 변수 인덱스로\n",
    "\n",
    "c = 10\n",
    "b = \"Hi\"\n",
    "\n",
    "a = \"{0} my name is tae. I'm {1} years old.\".format(b, c)\n",
    "d = \"{1} my name is tae. I'm {0} years old.\".format(b, c)\n",
    "\n",
    "print(a)\n",
    "print(d)"
   ]
  },
  {
   "cell_type": "code",
   "execution_count": 38,
   "metadata": {},
   "outputs": [
    {
     "name": "stdout",
     "output_type": "stream",
     "text": [
      "10 my name is tae. I'm Hi years old.\n"
     ]
    }
   ],
   "source": [
    "# 숫자나 문자 대입하기2 - 변수 바로\n",
    "\n",
    "a = \"{number} my name is tae. I'm {greeting} years old.\".format(number = 10, greeting=\"Hi\")\n",
    "\n",
    "print(a)"
   ]
  },
  {
   "cell_type": "code",
   "execution_count": 39,
   "metadata": {},
   "outputs": [
    {
     "name": "stdout",
     "output_type": "stream",
     "text": [
      "10 my name is tae. I'm Hi years old.\n"
     ]
    }
   ],
   "source": [
    "# 숫자나 문자 대입하기3 - 혼용\n",
    "\n",
    "number = 10\n",
    "\n",
    "a = \"{0} my name is tae. I'm {greeting} years old.\".format(number, greeting=\"Hi\")\n",
    "\n",
    "print(a)"
   ]
  },
  {
   "cell_type": "code",
   "execution_count": 37,
   "metadata": {
    "collapsed": true
   },
   "outputs": [
    {
     "ename": "SyntaxError",
     "evalue": "positional argument follows keyword argument (<ipython-input-37-efb7ca904589>, line 5)",
     "output_type": "error",
     "traceback": [
      "\u001b[1;36m  File \u001b[1;32m\"<ipython-input-37-efb7ca904589>\"\u001b[1;36m, line \u001b[1;32m5\u001b[0m\n\u001b[1;33m    a = \"{number} my name is tae. I'm {1} years old.\".format(number = 10, greeting)\u001b[0m\n\u001b[1;37m                                                                          ^\u001b[0m\n\u001b[1;31mSyntaxError\u001b[0m\u001b[1;31m:\u001b[0m positional argument follows keyword argument\n"
     ]
    }
   ],
   "source": [
    "# 숫자나 문자 대입하기3 - 에러 발생!!!\n",
    "\n",
    "greeting = 'Hi'\n",
    "\n",
    "a = \"{number} my name is tae. I'm {1} years old.\".format(number = 10, greeting)\n",
    "\n",
    "print(a)"
   ]
  },
  {
   "cell_type": "markdown",
   "metadata": {},
   "source": [
    "## format()함수에 실수 넣기"
   ]
  },
  {
   "cell_type": "code",
   "execution_count": 59,
   "metadata": {},
   "outputs": [
    {
     "name": "stdout",
     "output_type": "stream",
     "text": [
      "3.4213\n"
     ]
    }
   ],
   "source": [
    "greeting = 3.42134234\n",
    "\n",
    "a = \"{:0.4f}\".format(greeting)\n",
    "\n",
    "print(a)"
   ]
  },
  {
   "cell_type": "markdown",
   "metadata": {},
   "source": [
    "### format()을 활용한 문자열 정렬"
   ]
  },
  {
   "cell_type": "code",
   "execution_count": 60,
   "metadata": {},
   "outputs": [
    {
     "data": {
      "text/plain": [
       "'hi        '"
      ]
     },
     "execution_count": 60,
     "metadata": {},
     "output_type": "execute_result"
    }
   ],
   "source": [
    "# 왼쪽 정렬 - :< 를 사용\n",
    "\"{:<10}\".format(\"hi\")"
   ]
  },
  {
   "cell_type": "code",
   "execution_count": 61,
   "metadata": {},
   "outputs": [
    {
     "data": {
      "text/plain": [
       "'        hi'"
      ]
     },
     "execution_count": 61,
     "metadata": {},
     "output_type": "execute_result"
    }
   ],
   "source": [
    "# 오른쪽 정렬 - :> 를 사용\n",
    "\"{:>10}\".format(\"hi\")"
   ]
  },
  {
   "cell_type": "code",
   "execution_count": 62,
   "metadata": {},
   "outputs": [
    {
     "data": {
      "text/plain": [
       "'    hi    '"
      ]
     },
     "execution_count": 62,
     "metadata": {},
     "output_type": "execute_result"
    }
   ],
   "source": [
    "# 가운데 정렬 - :^ 를 사용\n",
    "\"{:^10}\".format(\"hi\")"
   ]
  },
  {
   "cell_type": "code",
   "execution_count": 63,
   "metadata": {},
   "outputs": [
    {
     "name": "stdout",
     "output_type": "stream",
     "text": [
      "=========hi=========\n",
      "hi==================\n",
      "==================hi\n"
     ]
    }
   ],
   "source": [
    "# 공백 채우기 - :^ 사이에 원하는 기호를 사용하고, 한 줄의 문자열 길이를 써줌\n",
    "print(\"{:=^20}\".format(\"hi\"))\n",
    "print(\"{:=<20}\".format(\"hi\"))\n",
    "print(\"{:=>20}\".format(\"hi\"))"
   ]
  },
  {
   "cell_type": "code",
   "execution_count": 53,
   "metadata": {},
   "outputs": [
    {
     "name": "stdout",
     "output_type": "stream",
     "text": [
      "*********hi*********\n",
      "hi******************\n",
      "******************hi\n"
     ]
    }
   ],
   "source": [
    "print(\"{:*^20}\".format(\"hi\"))\n",
    "print(\"{:*<20}\".format(\"hi\"))\n",
    "print(\"{:*>20}\".format(\"hi\"))"
   ]
  },
  {
   "cell_type": "code",
   "execution_count": null,
   "metadata": {},
   "outputs": [],
   "source": []
  },
  {
   "cell_type": "code",
   "execution_count": null,
   "metadata": {},
   "outputs": [],
   "source": []
  }
 ],
 "metadata": {
  "kernelspec": {
   "display_name": "Python 3",
   "language": "python",
   "name": "python3"
  },
  "language_info": {
   "codemirror_mode": {
    "name": "ipython",
    "version": 3
   },
   "file_extension": ".py",
   "mimetype": "text/x-python",
   "name": "python",
   "nbconvert_exporter": "python",
   "pygments_lexer": "ipython3",
   "version": "3.8.5"
  }
 },
 "nbformat": 4,
 "nbformat_minor": 4
}
